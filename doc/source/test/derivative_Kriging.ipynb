{
  "cells": [
    {
      "cell_type": "code",
      "execution_count": null,
      "metadata": {
        "collapsed": false
      },
      "outputs": [],
      "source": [
        "%matplotlib inline"
      ]
    },
    {
      "cell_type": "markdown",
      "metadata": {},
      "source": [
        "\n# Derivative_Kriging\n\nTest\n"
      ]
    },
    {
      "cell_type": "code",
      "execution_count": null,
      "metadata": {
        "collapsed": false
      },
      "outputs": [],
      "source": [
        "import matplotlib.pyplot as plt\nfrom polykriging import curve2D\n\n# ----------------- Example 1 --------------------\nx = [0, 2.5, 4, 4.5, 5.08]\ny = [5, 8, 9, 5, -3]\n\nx_deriv = [0]\ny_deriv = [-1]\n\n# bd_Deriv_kriging_func(x, y, xDeriv, yDeriv, choixDerive, choixCov, plot_x_pts, nugg)\nsum_ave = curve2D.bd_Deriv_kriging_func(x, y, x_deriv, y_deriv, 'cst', 'cub', 100, 0)\n\nprint(sum_ave)\n\nplt.ylabel('y')\nplt.xlabel('x')\nplt.legend(loc='upper left', ncol=1)\n\n\n# clear matplotlib figure\nplt.clf()\n\n# ----------------- Example 2 --------------------\nx = [0, 1]\ny = [0, 0]\n\nx_deriv = [0.5]\ny_deriv = [1]\n\n# bd_Deriv_kriging_func(x, y, xDeriv, yDeriv, choixDerive, choixCov, plot_x_pts, nugg)\nsum_ave = curve2D.bd_Deriv_kriging_func(x, y, x_deriv, y_deriv, 'cst', 'cub', 100, 0.005)"
      ]
    }
  ],
  "metadata": {
    "kernelspec": {
      "display_name": "Python 3",
      "language": "python",
      "name": "python3"
    },
    "language_info": {
      "codemirror_mode": {
        "name": "ipython",
        "version": 3
      },
      "file_extension": ".py",
      "mimetype": "text/x-python",
      "name": "python",
      "nbconvert_exporter": "python",
      "pygments_lexer": "ipython3",
      "version": "3.10.4"
    }
  },
  "nbformat": 4,
  "nbformat_minor": 0
}