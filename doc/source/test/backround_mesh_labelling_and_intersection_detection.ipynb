{
  "cells": [
    {
      "cell_type": "code",
      "execution_count": null,
      "metadata": {
        "collapsed": false
      },
      "outputs": [],
      "source": [
        "%matplotlib inline"
      ]
    },
    {
      "cell_type": "markdown",
      "metadata": {},
      "source": [
        "\n# Mesh labelling and intersection detection\n\nTest\n"
      ]
    },
    {
      "cell_type": "code",
      "execution_count": null,
      "metadata": {
        "collapsed": false
      },
      "outputs": [],
      "source": [
        "import re\nimport time\n\nimport numpy as np\nimport pyvista as pv\nfrom polytex.io import save_nrrd, choose_directory, filenames\nfrom polytex.mesh import background_mesh, label_mask, intersection_detect\nfrom scipy.sparse import coo_matrix\n\n\"\"\" Inputs \"\"\"\n# Generate a voxel background mesh.\nbbox = np.array((0.0, 12.21, 0.5, 10.4, 0.20, 5.37))\nvoxel_size = [0.11, 0.11, 0.11]\nyarnIndex = np.arange(0, 52)\n\n\"\"\" Generate a voxel background mesh. \"\"\"\nmesh_background, mesh_shape = background_mesh(bbox, voxel_size)\n\n\"\"\" Plot the background mesh. \"\"\"\nmesh_background.plot(show_edges=True, color='w', opacity=1)\n# mesh.save(\"./file/test_bbox.vtu\", binary=True)\n\n# time labelling\nstart_labelling = time.time()\n\n# initialize the array of label list with -1\nlabel_list = np.full(mesh_background.n_cells, -1, dtype=np.int32)\n\n\"\"\" Select the surface meshes of yarns to be labelled \"\"\"\nlabel_set_dict = dict()\npath = choose_directory(\"Choose the surface mesh directory for fiber tow labelling\")\nfile_list = filenames(path, \".stl\")\nfile_list_sort = {}\nfor i, file in enumerate(file_list):\n    # regular expression for integer\n    yarn_index = re.findall(r'\\d+', file)\n    file_list_sort[int(yarn_index[0])] = file\n\n\"\"\" Label the surface meshes of yarns \"\"\"\nindices = np.array(list(file_list_sort.keys()))\nindices.sort()\nfor index in indices:\n    if index in [47, 48, 49]:\n        continue\n\n    print(\"Processing yarn %d of %d\" % (index, len(yarnIndex)))\n\n    mesh_tri = pv.read(path + \"\\\\\" + file_list_sort[index])  # load surface mesh\n\n    # find the cells that are within the tubular surface of the fiber tow\n    mask, label_yarn = label_mask(mesh_background, mesh_tri)\n\n    label_list[mask] = index\n    label_set_dict[index] = coo_matrix(label_yarn)\n\nprint(\"Labelling time: %.2f seconds\" % (time.time() - start_labelling))\n\n\"\"\" Find the intersection of fiber tows  \"\"\"\nintersect_info, intersect_info_dict, cell_data_intersect = intersection_detect(label_set_dict)\n\nmesh_background.cell_data['label'] = label_list\nmesh_background.cell_data['intersection'] = cell_data_intersect\n# mesh_background.save('./file/test_bbox_cells.vtu', binary=True)\nsave_nrrd(label_list, mesh_shape, \"./file/test_bbox_cells\")"
      ]
    }
  ],
  "metadata": {
    "kernelspec": {
      "display_name": "Python 3",
      "language": "python",
      "name": "python3"
    },
    "language_info": {
      "codemirror_mode": {
        "name": "ipython",
        "version": 3
      },
      "file_extension": ".py",
      "mimetype": "text/x-python",
      "name": "python",
      "nbconvert_exporter": "python",
      "pygments_lexer": "ipython3",
      "version": "3.10.4"
    }
  },
  "nbformat": 4,
  "nbformat_minor": 0
}