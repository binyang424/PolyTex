{
  "cells": [
    {
      "cell_type": "code",
      "execution_count": null,
      "metadata": {
        "collapsed": false
      },
      "outputs": [],
      "source": [
        "%matplotlib inline"
      ]
    },
    {
      "cell_type": "markdown",
      "metadata": {},
      "source": [
        "\n# Tubular mesh\n\nTest\n"
      ]
    },
    {
      "cell_type": "code",
      "execution_count": null,
      "metadata": {
        "collapsed": false
      },
      "outputs": [],
      "source": [
        "import polykriging.mesh as ms\nimport meshio\nimport numpy as np\n\ntheta_res = 5\nh_res = 5\nh = 15\na = 4\nb = 1\n\npoints = ms.structured_cylinder_vertices(a=a, b=b, h=h,\n                                         theta_res=theta_res, h_res=h_res)\nmesh = ms.tubular_mesh_generator(theta_res=theta_res,\n                                 h_res=h_res, vertices=points)\n\npoints, cells, point_data, cell_data = ms.to_meshio_data(mesh, theta_res, correction=True)\n\n\nmeshio.write_points_cells(\n    filename=\"cylinder.ply\",\n    points=points,\n    cells=cells, binary=False\n)"
      ]
    }
  ],
  "metadata": {
    "kernelspec": {
      "display_name": "Python 3",
      "language": "python",
      "name": "python3"
    },
    "language_info": {
      "codemirror_mode": {
        "name": "ipython",
        "version": 3
      },
      "file_extension": ".py",
      "mimetype": "text/x-python",
      "name": "python",
      "nbconvert_exporter": "python",
      "pygments_lexer": "ipython3",
      "version": "3.10.4"
    }
  },
  "nbformat": 4,
  "nbformat_minor": 0
}