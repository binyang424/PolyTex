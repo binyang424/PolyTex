{
  "cells": [
    {
      "cell_type": "code",
      "execution_count": null,
      "metadata": {
        "collapsed": false
      },
      "outputs": [],
      "source": [
        "%matplotlib inline"
      ]
    },
    {
      "cell_type": "markdown",
      "metadata": {},
      "source": [
        "\n# Step 1: GeometricAnalysis\n\nInput: pcd\nOutput: .geo and .coo files\n"
      ]
    },
    {
      "cell_type": "code",
      "execution_count": null,
      "metadata": {
        "collapsed": false
      },
      "outputs": [],
      "source": [
        "import numpy as np\nimport polytex as pk\nfrom polytex.geometry import geom\nimport matplotlib.pyplot as plt\nimport pandas as pd\n\n'''\nVariables:\n    resolution - the resolution of micro CT scan (size of voxels)\n    yarn - the number of the yarn\n    surfPoints - df of raw point cloud dataset: [original point order, X, Y, Z (SLICE NUMBER)]\n'''\n\n# the path where the npz file is stored.\n# ./05_polytex\\Data\\extractedData\\\npath = pk.io.choose_directory(\n    titl=\"Choose the directory that contains raw point cloud data (pcd) ...\")\n\npk.io.cwd_chdir(path)  # set the path as current work directory\nfilelist = pk.io.filenames(path, \"pcd\")\n\npathsave = pk.io.choose_directory(\n    titl=\"Choose the directory to save Geometry features\")\n\nresolution = 0.022  # mm/pixel\n\nfig = plt.figure()\nfor yarn in np.arange(0, 7):\n    try:\n        # load contour described by point cloud\n        pcd = pk.pk_load(\"weft_{}.pcd\".format(yarn))\n    except FileNotFoundError:\n        print(\"weft_{}.pcd not found!\".format(yarn))\n        continue\n\n    surfPoints = pcd.to_numpy()[:, 1:] * resolution\n\n    slices = np.unique(surfPoints[:, -1]) /resolution\n    nslice = slices.size\n    centerline = np.zeros([nslice, 3])\n\n    for iSlice in range(slices.size):\n\n        coordinate = surfPoints[surfPoints[:, -1] == slices[iSlice]*resolution, -3:]\n\n        # geomFeature = [Area, Perimeter, Width, Height, AngleRotated, Circularity,\n        #       centroidX, centroidY, centroidZ]\n        # coordinateSorted = [distance, normalized distance, angular position (degree),\n        #       coordinateSorted(X, Y, Z)]\n        geomFeature, coordinateSorted = geom(coordinate, sort=True)\n        centerline[iSlice - 1, :] = geomFeature[-3:]\n\n        try:\n            geomFeatures = np.vstack((geomFeatures, geomFeature))\n            coordinatesSorted = np.vstack((coordinatesSorted, coordinateSorted))\n        except NameError:\n            geomFeatures = geomFeature\n            coordinatesSorted = coordinateSorted\n\n        # plot the contours and rotated boxes\n        # close all the figures\n\n        if iSlice % 13 == 0:\n            ax = fig.add_subplot(13, 8, int(iSlice / 15 + 1))\n            ax.set_axis_off()\n            plt.fill(coordinateSorted[:, 3], coordinateSorted[:, 4], facecolor='pink', alpha=0.5)\n            # plt.plot(xb,yb)   # plt.plot(*polygon.exterior.xy)  # Error on the last iSlice\n            plt.scatter(geomFeature[-3], geomFeature[-2], marker='.', c='r')\n            ax = plt.gca()\n            ax.set_aspect(1)\n            # plt.axis('off')\n    plt.show()\n\n    columns_geom = [\"Area\", \"Perimeter\", \"Width\", \"Height\", \"AngleRotated\", \"Circularity\",\n          \"centroidX\", \"centroidY\", \"centroidZ\"]\n    columns_coor = [\"distance\", \"normalized distance\", \"angular position (degree)\",\n          \"X\", \"Y\", \"Z\"]\n\n    df_geom = pd.DataFrame(geomFeatures, columns=columns_geom)\n    df_coor = pd.DataFrame(coordinatesSorted, columns=columns_coor)\n\n    # save the geomFeature properties\n\n    pk.pk_save(pathsave + \"\\\\weft_\" + str(yarn) + \".geo\", df_geom)\n    pk.pk_save(pathsave + \"\\\\weft_\" + str(yarn) + \".coo\", df_coor)\n\n    del surfPoints, coordinate, geomFeature, coordinateSorted, geomFeatures, coordinatesSorted\n    plt.close('all')"
      ]
    }
  ],
  "metadata": {
    "kernelspec": {
      "display_name": "Python 3",
      "language": "python",
      "name": "python3"
    },
    "language_info": {
      "codemirror_mode": {
        "name": "ipython",
        "version": 3
      },
      "file_extension": ".py",
      "mimetype": "text/x-python",
      "name": "python",
      "nbconvert_exporter": "python",
      "pygments_lexer": "ipython3",
      "version": "3.10.4"
    }
  },
  "nbformat": 4,
  "nbformat_minor": 0
}