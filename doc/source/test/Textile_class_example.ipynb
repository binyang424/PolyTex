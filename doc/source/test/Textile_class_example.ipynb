{
  "cells": [
    {
      "cell_type": "markdown",
      "metadata": {},
      "source": [
        "\n# Textile class example\nThis example shows how to use the Textile class in PolyTex package. It\nis designed to handle the parametrization and geometrical analysis of a fiber Textile. A Tow instance is created by\npassing the point cloud of a tow, which consists only the points on the Textile surface, to the constructor.\n"
      ]
    },
    {
      "cell_type": "code",
      "execution_count": null,
      "metadata": {
        "collapsed": false
      },
      "outputs": [],
      "source": [
        "import numpy as np\nimport polytex as ptx"
      ]
    },
    {
      "cell_type": "markdown",
      "metadata": {},
      "source": [
        "## Create a textile object\n1. create a textile object\n2. add tows to the textile object\n3. add groups to the textile object\n4. remove tows from the textile object. The same tows in self.groups will be\n   removed automatically.\n\n"
      ]
    },
    {
      "cell_type": "code",
      "execution_count": null,
      "metadata": {
        "collapsed": false
      },
      "outputs": [],
      "source": [
        "textile = ptx.Textile(name=\"TG96N_Vf57\")\nprint(textile.name)\n\npath = \"./sample_data/tow/\"\nfiles = ptx.filenames(path, \".tow\")\n\nfor file in files:\n    print(path + file)\n    tow = ptx.pk_load(path + file)\n    textile.add_tow(tow)\n\nprint(textile.items)\n\ntextile.remove(\"binder_104\")  # remove a tow from the textile object\nprint(textile.items)\n\nweft_128 = textile[\"weft_128\"]\ntextile.add_group(name=\"weft\", tow=weft_128)  # add an existing tow to the group\nprint(textile.groups)\n\n# add an empty group\ntextile.add_group(name=\"binder\")\nprint(textile.groups)\n\n# add a tow to the group\ntextile.add_group(name=\"binder\", tow=textile['binder_105'])  # add a new tow to the group\nprint(textile.groups)"
      ]
    },
    {
      "cell_type": "markdown",
      "metadata": {},
      "source": [
        "## Create a background mesh for the textile domain\n1. define the bounding box of the textile domain\n2. define the voxel size\n3. generate the background mesh with textile.mesh()\n\n"
      ]
    },
    {
      "cell_type": "code",
      "execution_count": null,
      "metadata": {
        "collapsed": false
      },
      "outputs": [],
      "source": [
        "bbox = np.array((0.6, 12, 1.07, 14.19, 0.15, 5.5))\nvoxel_size = [0.132, 0.132, 0.066]\n\ntextile.meshing(bbox, voxel_size=voxel_size, show=True,\n                labeling=True, surface_mesh=\"./stl/\", verbose=False)"
      ]
    }
  ],
  "metadata": {
    "kernelspec": {
      "display_name": "Python 3",
      "language": "python",
      "name": "python3"
    },
    "language_info": {
      "codemirror_mode": {
        "name": "ipython",
        "version": 3
      },
      "file_extension": ".py",
      "mimetype": "text/x-python",
      "name": "python",
      "nbconvert_exporter": "python",
      "pygments_lexer": "ipython3",
      "version": "3.9.13"
    }
  },
  "nbformat": 4,
  "nbformat_minor": 0
}