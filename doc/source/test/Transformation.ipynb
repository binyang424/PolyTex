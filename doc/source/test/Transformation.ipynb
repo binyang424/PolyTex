{
  "cells": [
    {
      "cell_type": "code",
      "execution_count": null,
      "metadata": {
        "collapsed": false
      },
      "outputs": [],
      "source": [
        "%matplotlib inline"
      ]
    },
    {
      "cell_type": "markdown",
      "metadata": {},
      "source": [
        "\n# Coordinate transformation\nThe following code is a demonstration of coordinate transformation using direct\ncosine matrix (DCM) and Euler angles (phi, theta, psi).\n"
      ]
    },
    {
      "cell_type": "code",
      "execution_count": null,
      "metadata": {
        "collapsed": false
      },
      "outputs": [],
      "source": [
        "import polykriging as pk\nfrom polykriging.geometry import transform as tf\nimport numpy as np\nimport pyvista as pv\n\nimport matplotlib.pyplot as plt\n\n# ============================================================\n# Load test data\npath = pk.example(data_name=\"cross-section\")\ndata = pv.read(path)\nnormal = [0.43583834, -0.00777955, -0.89999134]\ndata.plot()\n\n# ============================================================\n# Get the data points and its centroid\npoints = data.points\ncentroid = np.mean(points, axis=0)\n\n# ============================================================\n# Move the centroid to the origin of global coordinate system\npoints = points - centroid\n\n# ============================================================\n# We want to rotate the global coordinate system to align its z-axis\n# with the normal vector of the cross-section. To do this, we need to\n# find the euler angles (phi, theta, psi).\nangles = tf.euler_z_noraml(normal)\n\n# ============================================================\n# We can use the euler angles to construct the DCM\ndcm = tf.e123_dcm(*angles)\n\n# ============================================================\n# Rotate the points\npoints = np.dot(dcm, points.T).T\n\n# ============================================================\n# Plot the rotated points\nplt.plot(points[:, 0], points[:, 1], \"o\")\n# equal aspect ratio\nplt.gca().set_aspect(\"equal\", adjustable=\"box\")\nplt.show()\n\n# ============================================================\n# Note: The points have to be ordered in a clockwise or\n# counter-clockwise manner. So we need to sort the points first\n# before we can use them to construct a polygon and find the area\n# or perimeter."
      ]
    }
  ],
  "metadata": {
    "kernelspec": {
      "display_name": "Python 3",
      "language": "python",
      "name": "python3"
    },
    "language_info": {
      "codemirror_mode": {
        "name": "ipython",
        "version": 3
      },
      "file_extension": ".py",
      "mimetype": "text/x-python",
      "name": "python",
      "nbconvert_exporter": "python",
      "pygments_lexer": "ipython3",
      "version": "3.10.4"
    }
  },
  "nbformat": 4,
  "nbformat_minor": 0
}