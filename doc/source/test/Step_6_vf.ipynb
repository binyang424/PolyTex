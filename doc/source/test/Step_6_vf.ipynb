{
  "cells": [
    {
      "cell_type": "markdown",
      "metadata": {},
      "source": [
        "\n# Fiber volume fraction of tow\n\nThis example calculates the fiber volume fraction of tow according to the\ncross-sectional area and the linear density of tow.\n\nNote:\n    PyLCM is a Python package for parameter analysis of Liquid Composite Molding\n    (LCM) process. It is under development and not ready for release now. The\n    plan is to release it in the end of 2023 as open-source Python package on PyPI.\n\n    For testing purpose, you can download the source code from GitHub:\n      https://github.com/binyang424/pyLCM\n"
      ]
    },
    {
      "cell_type": "code",
      "execution_count": null,
      "metadata": {
        "collapsed": false
      },
      "outputs": [],
      "source": [
        "import pyLCM\nimport re\n\nimport matplotlib.pyplot as plt\nimport polytex as pk\n\npath = pk.io.choose_directory(titl=\"geo files\")\ncwd = pk.io.cwd_chdir(path)  # ./transformation\n\nfilenames = pk.io.filenames(path, \"geo\")\n\nlabels = [int(re.findall(r'\\d+', filename)[0]) for filename in filenames]\n# sort the filenames according to the labels\nfilenames = [filename for _, filename in sorted(zip(labels, filenames))]\n\nfor filename in filenames[:5]:\n    geo = pk.pk_load(filename)\n\n    if \"warp\" in filename:\n        tex = 2200  # tex: 1 tex = 1 g/km\n    elif \"weft\" in filename:\n        tex = 1100\n    else:\n        tex = 275  # binder\n\n    print(filename)\n    fiber_area = pyLCM.utility.tex_to_area(tex, density_fiber=2550)  # mm^2\n    vf = fiber_area / geo[\"Area\"]\n    # print the maximum and minimum fiber volume fraction\n    print(\"The maximun and the minimum fiber volume fraction: %.2f and %.2f\"\n          % (vf.min(), vf.max()))\n\n    # plot the fiber volume fraction.\n    try:\n        ax.plot(geo[\"centroidZ\"], vf, label=filename)\n    except NameError:\n        fig, ax = plt.subplots(1, 1, figsize=(8, 6))\n\nax.set_xlabel(\"y (mm)\")\nax.set_ylabel(\"fiber volume fraction\")\nax.set_ylim(0.5, 1)\nax.legend()\nplt.show()"
      ]
    }
  ],
  "metadata": {
    "kernelspec": {
      "display_name": "Python 3",
      "language": "python",
      "name": "python3"
    },
    "language_info": {
      "codemirror_mode": {
        "name": "ipython",
        "version": 3
      },
      "file_extension": ".py",
      "mimetype": "text/x-python",
      "name": "python",
      "nbconvert_exporter": "python",
      "pygments_lexer": "ipython3",
      "version": "3.10.11"
    }
  },
  "nbformat": 4,
  "nbformat_minor": 0
}