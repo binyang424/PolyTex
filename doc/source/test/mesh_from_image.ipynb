{
  "cells": [
    {
      "cell_type": "code",
      "execution_count": null,
      "metadata": {
        "collapsed": false
      },
      "outputs": [],
      "source": [
        "%matplotlib inline"
      ]
    },
    {
      "cell_type": "markdown",
      "metadata": {},
      "source": [
        "\n# Extract surface mesh from image sequence\nThis example shows how to extract a surface mesh from a 3D image sequence\nsuch as a CT scan. The image sequence should be stored as a single tif file.\n"
      ]
    },
    {
      "cell_type": "code",
      "execution_count": null,
      "metadata": {
        "collapsed": false
      },
      "outputs": [],
      "source": [
        "import polykriging as pk\nimport matplotlib.pyplot as plt\nimport pandas as pd\n\nim = pk.example(\"image\")\n\nmesh, mesh_dim = pk.mesh.im_to_ugrid(im)\nmesh.plot(show_edges=True)\n\n# As we load the image sequence as an unstructured grid, the grey values are\n# stored as a point data array. This allows us to extract part of the mesh\n# based on the grey value using function pk.mesh.extract_mesh(). It returns\n# a volume mesh and a surface mesh of the extracted part.\n\"\"\" Get the foreground or background mesh \"\"\"\nvol_mesh, surf_mesh = pk.mesh.mesh_extract(mesh, threshold=0.5, type=\"foreground\")\n# vol_mesh.plot(show_edges=True)  # plot the volume mesh\n# surf_mesh.plot(show_edges=True)  # plot the surface mesh\n\n\"\"\" Separate the mesh according to object connectivity \"\"\"\nmesh_dict = pk.mesh.mesh_separation(surf_mesh, plot=False)\n\nbinder_0 = mesh_dict[\"0\"]\nbinder_1 = mesh_dict[\"1\"]\n# binder_0.plot(show_scalar_bar=False, show_edges=False)\n# binder_1.plot(show_scalar_bar=False, show_edges=False)\n\n# reorganize the points of surface mesh in the order of slice (vertical cut plane)\npoints_1_reorder, trajectory = pk.mesh.get_vcut_plane(binder_1, direction='x')\n\npoints_1_df = pd.DataFrame(points_1_reorder, columns=['x', 'y', 'z'])\npk.pk_save(im[:-4] + \".pcd\", points_1_df)\n\nplt.plot(trajectory[:, 0], trajectory[:, 1])\nplt.xlabel('x')\nplt.ylabel('y')\n# equal aspect ratio\nplt.gca().set_aspect('equal', adjustable='box')\nplt.show()\n\npk.mesh.slice_plot(points_1_reorder, skip=10, marker='o', marker_size=0.1, dpi=300)"
      ]
    }
  ],
  "metadata": {
    "kernelspec": {
      "display_name": "Python 3",
      "language": "python",
      "name": "python3"
    },
    "language_info": {
      "codemirror_mode": {
        "name": "ipython",
        "version": 3
      },
      "file_extension": ".py",
      "mimetype": "text/x-python",
      "name": "python",
      "nbconvert_exporter": "python",
      "pygments_lexer": "ipython3",
      "version": "3.10.4"
    }
  },
  "nbformat": 4,
  "nbformat_minor": 0
}