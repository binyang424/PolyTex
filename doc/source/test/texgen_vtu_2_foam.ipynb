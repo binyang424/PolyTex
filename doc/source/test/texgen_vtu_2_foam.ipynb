{
  "cells": [
    {
      "cell_type": "code",
      "execution_count": null,
      "metadata": {
        "collapsed": false
      },
      "outputs": [],
      "source": [
        "%matplotlib inline"
      ]
    },
    {
      "cell_type": "markdown",
      "metadata": {},
      "source": [
        "\n# Convert the TexGen-generated vtu file to OpenFOAM polyMesh\n\nThis example demonstrates how to convert the TexGen-generated vtu file to OpenFOAM\npolyMesh. The cell data of the vtu file will be written to the OpenFOAM mesh. The\nboundary type for the OpenFOAM mesh is also defined. A OpenFOAM case template is\nprovided by polytex to prepare the case for OpenFOAM.\n"
      ]
    },
    {
      "cell_type": "code",
      "execution_count": null,
      "metadata": {
        "collapsed": false
      },
      "outputs": [],
      "source": [
        "import os\nimport pyvista as pv\nimport polytex as pk\n\n\n# input parameters\nrf = 8.5e-6  # m, fiber radius\nfp = \"texgen_50_50_50.vtu\"   # file path\nscale = 1e-3  # scale the mesh from mm to m\n\nmesh = pv.read(fp)\nmesh = pk.texgen_voxel(mesh, rf, plot=True)\n\n\"\"\" \nMesh writing \n============\n\"\"\"\noutput_dir = \"./foam_case/\"\n# the cell data to be written to the OpenFOAM mesh\ncell_data = {\"K\", \"D\", \"VolumeFraction\", \"YarnIndex\", \"Orientation\"}\n# the boundary type for the OpenFOAM mesh\nboundary_type = {\"left\": \"wall\", \"right\": \"wall\", \"front\": \"patch\", \"back\": \"patch\",\n                 \"bottom\": \"wall\", \"top\": \"wall\"}\n# write the mesh to OpenFOAM polyMesh\npk.voxel2foam(mesh, scale=scale, outputDir=output_dir, boundary_type=boundary_type,\n              cell_data_list=cell_data)\n\n\"\"\" Create a OpenFOAM case file for Paraveiw post-processing \"\"\"\nwith open(os.path.join(output_dir, \"test.foam\"), \"w\") as f:\n    pass  # empty file\nf.close()\n\n\"\"\" Prepare the case for OpenFOAM with the template provided by polytex \"\"\"\npk.case_prepare(output_dir)\nprint(\"Case preparation is done!\")"
      ]
    }
  ],
  "metadata": {
    "kernelspec": {
      "display_name": "Python 3",
      "language": "python",
      "name": "python3"
    },
    "language_info": {
      "codemirror_mode": {
        "name": "ipython",
        "version": 3
      },
      "file_extension": ".py",
      "mimetype": "text/x-python",
      "name": "python",
      "nbconvert_exporter": "python",
      "pygments_lexer": "ipython3",
      "version": "3.10.4"
    }
  },
  "nbformat": 4,
  "nbformat_minor": 0
}