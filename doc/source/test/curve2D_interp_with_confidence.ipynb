{
  "cells": [
    {
      "cell_type": "markdown",
      "metadata": {},
      "source": [
        "\n# 2D curve kriging with confidence\n\nThis example shows how to interpolate a 2D curve with confidence estimation.\n\n\\begin{align}y = f(x)\\end{align}\n\nwhere $f$ is a 2D curve. The curve is defined by a set of points\n$(x_i, y_i)$, where $i = 1, 2, ..., n$.\n\nThis kriging method is the basis for fiber tow trajectory smoothing and control\npoint resampling of fiber tow surface implimented in polykriging.Tow class.\n"
      ]
    },
    {
      "cell_type": "code",
      "execution_count": null,
      "metadata": {
        "collapsed": false
      },
      "outputs": [],
      "source": [
        "import numpy as np\nfrom polykriging.kriging import curve2D\nimport polykriging as pk\nimport matplotlib.pyplot as plt\n\n# Make up some data\nX = np.linspace(start=0, stop=10, num=300)\ny = X * np.sin(X)\n\n# Choose some data points randomly for training\nrng = np.random.RandomState(1)\ntraining_indices = rng.choice(np.arange(y.size), size=16, replace=False)\n\nX_train, y_train = X[training_indices], y[training_indices]\n\ndata_set = np.hstack((X_train.reshape(-1, 1), y_train.reshape(-1, 1)))\n\nname_drift, name_cov = 'lin', 'cub'\nnuggetEffect = 0"
      ]
    },
    {
      "cell_type": "markdown",
      "metadata": {},
      "source": [
        "## Matrice and vectors for dual Kriging formulation\nFor most users, this part can be ignored. It is only for the purpose of\nunderstanding the formulation of dual Kriging. Kriging interpolation can be\nachieved by calling the function ``curve2D.curve2Dinter``\n\n"
      ]
    },
    {
      "cell_type": "code",
      "execution_count": null,
      "metadata": {
        "collapsed": false
      },
      "outputs": [],
      "source": [
        "mat_krig, mat_krig_inv, vector_ba, expr, func_drift, func_cov = \\\n    curve2D.curveKrig1D(data_set, name_drift, name_cov, nuggetEffect=nuggetEffect)"
      ]
    },
    {
      "cell_type": "markdown",
      "metadata": {},
      "source": [
        "## Kriging interpolation\nKriging model and prediction with mean, Kriging expression\nand the corresponding standard deviation as output.\n\n"
      ]
    },
    {
      "cell_type": "code",
      "execution_count": null,
      "metadata": {
        "collapsed": false
      },
      "outputs": [],
      "source": [
        "mean_prediction, expr, std_prediction = curve2D.curve2Dinter(\n    data_set, name_drift, name_cov,\n    nuggetEffect=nuggetEffect, interp=X, return_std=True)\n\n# Plot the results\nplt.plot(X, y, label=r\"$f(x) = x \\sin(x)$\", linestyle=\"dotted\")\nplt.scatter(X_train, y_train, label=\"Observations\", s=50, zorder=10)\nplt.plot(X, mean_prediction, label=\"Mean prediction\")\nplt.fill_between(X.ravel(),\n                 mean_prediction - 1.96 * std_prediction,\n                 mean_prediction + 1.96 * std_prediction,\n                 alpha=0.5, label=r\"95% confidence interval\")\n\nplt.legend()\nplt.xlabel(\"$x$\")\nplt.ylabel(\"$f(x)$\")\n_ = plt.title(\"2D curve Kriging regression on noise-free dataset\")\n\nplt.show()"
      ]
    },
    {
      "cell_type": "markdown",
      "metadata": {},
      "source": [
        "<img src=\"file://images/2D_curve_kriging_with_confidence.png\">\n\n"
      ]
    },
    {
      "cell_type": "markdown",
      "metadata": {},
      "source": [
        "## Save the Kriging model\nYou can save the Kriging model to a file for later use and load it back\nusing pk.load() function. Note that the Kriging model is saved in a Python\ndictionary with its name as the key.\n\n"
      ]
    },
    {
      "cell_type": "code",
      "execution_count": null,
      "metadata": {
        "collapsed": false
      },
      "outputs": [],
      "source": [
        "expr_dict = {\"cross\": expr}\npk.pk_save(\"./test_data/FunXY.krig\", expr_dict)\nexpr_load = pk.pk_load(\"./test_data/FunXY.krig\")"
      ]
    }
  ],
  "metadata": {
    "kernelspec": {
      "display_name": "Python 3",
      "language": "python",
      "name": "python3"
    },
    "language_info": {
      "codemirror_mode": {
        "name": "ipython",
        "version": 3
      },
      "file_extension": ".py",
      "mimetype": "text/x-python",
      "name": "python",
      "nbconvert_exporter": "python",
      "pygments_lexer": "ipython3",
      "version": "3.10.11"
    }
  },
  "nbformat": 4,
  "nbformat_minor": 0
}