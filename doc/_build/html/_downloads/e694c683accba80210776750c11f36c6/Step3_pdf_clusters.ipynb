{
  "cells": [
    {
      "cell_type": "code",
      "execution_count": null,
      "metadata": {
        "collapsed": false
      },
      "outputs": [],
      "source": [
        "%matplotlib inline"
      ]
    },
    {
      "cell_type": "markdown",
      "metadata": {},
      "source": [
        "\n# pdf cluster\n\nTest\n"
      ]
    },
    {
      "cell_type": "code",
      "execution_count": null,
      "metadata": {
        "collapsed": false
      },
      "outputs": [],
      "source": [
        "import numpy as np\nimport matplotlib.pyplot as plt\nimport matplotlib as mpl\nimport polykriging as pk\nimport os\n\n# Input: parameters\nresolution = 0.022  # 0.022 mm\n# number of extrema (control points) for contour description\nextremaNum, windows, nuggets = 30, 5, [1e-3]\n\n''' Data loading '''\npath = pk.choose_file(titl=\"Directory for the file containing \"\n                           \"sorted coordinates (.coo)\", format=\".coo\")\nfilename = os.path.basename(path)\ncoordinatesSorted = pk.pk_load(path)\n\n''' Initial bandwidth estimation by Scott's rule '''\nt_norm = coordinatesSorted[\"normalized distance\"]\nstd = np.std(t_norm)\nbw = pk.stats.bw_scott(std, t_norm.size) / 2\nprint(\"Initial bandwidth: {}\".format(bw))\n\n'''  Kernel density estimation   '''\nt_test = np.linspace(0, 1, 1000)\nclusters = pk.stats.kdeScreen(t_norm, t_test, bw, plot=False)\n\n# log-likelihood\nLL = pk.stats.log_likelihood(clusters[\"pdf input\"])\n\n\"\"\" Save pdf analysis \"\"\"\ncluster_centers = clusters[\"cluster centers\"]\npk.pk_save(filename[:-4] + \"_clusters\" + str(len(cluster_centers)) +\n           \"_bw\" + str(round(bw, 3)) + \".stat\", clusters)\n\n\"\"\" Reload pdf analysis results \"\"\"\nreload = pk.pk_load(filename[:-4] + \"_clusters\" + str(len(cluster_centers)) +\n                    \"_bw\" + str(round(bw, 3)) + \".stat\")\n\n# plot scatter plot\nplt.close('all')\nfig, (ax1, ax2) = plt.subplots(nrows=2, ncols=1, figsize=(8, 5))\n# fig.subplots_adjust(bottom=0.5)\ncmap1 = mpl.cm.cool\ncmap2 = mpl.cm.jet\n\n\"\"\" color the scatters with the radial normalized distance \"\"\"\nax1.scatter(coordinatesSorted[\"X\"], coordinatesSorted[\"Y\"], s=25,\n            c=clusters[\"t input\"], cmap=cmap1, alpha=1 / 2, edgecolors='none')\n\n\"\"\" color the scatters with cluster labels \"\"\"\n# colorize the scatter plot according to clusters\ncolor = pk.color_cluster(clusters)\nax2.scatter(coordinatesSorted[\"X\"], coordinatesSorted[\"Y\"], s=25,\n            c=color, cmap=cmap2, alpha=1 / 2, edgecolors='none', label=\"bw = %.2f\" % bw)\n\nax2.set_xlabel('x (mm)')\nax1.set_ylabel('y (mm)')\nax2.set_ylabel('y (mm)')\n# remove the ticks in ax1\nax1.tick_params(axis='x', which='both', bottom=False, top=False,\n                labelbottom=False)\nax1.set_aspect(2)  # aspect ratio: y/x\nax2.set_aspect(2)  # aspect ratio: y/x\nplt.subplots_adjust(wspace=0, hspace=0)\nplt.tight_layout()\nplt.show()\n\n\"\"\" colorbar \"\"\"\n\nfig2, ax1 = plt.subplots(figsize=(6, 1))\nfig2.subplots_adjust(bottom=0.5)\n\nbounds = np.arange(0, len(cluster_centers))\nnorm = mpl.colors.BoundaryNorm(bounds, cmap2.N,\n                               # extend='both'\n                               )\n\nfig.colorbar(mpl.cm.ScalarMappable(norm=norm, cmap=cmap2),\n             cax=ax1, orientation='horizontal', label='pdf')\nplt.show()"
      ]
    }
  ],
  "metadata": {
    "kernelspec": {
      "display_name": "Python 3",
      "language": "python",
      "name": "python3"
    },
    "language_info": {
      "codemirror_mode": {
        "name": "ipython",
        "version": 3
      },
      "file_extension": ".py",
      "mimetype": "text/x-python",
      "name": "python",
      "nbconvert_exporter": "python",
      "pygments_lexer": "ipython3",
      "version": "3.10.7"
    }
  },
  "nbformat": 4,
  "nbformat_minor": 0
}