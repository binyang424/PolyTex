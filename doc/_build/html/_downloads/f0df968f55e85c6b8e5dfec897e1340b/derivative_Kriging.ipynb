{
  "cells": [
    {
      "cell_type": "markdown",
      "metadata": {},
      "source": [
        "\n# Derivative kriging\n\nThis example shows how to use of derivative kriging for interpolation y = f(x)\nwith given derivative dy/dx = f'(x) in some position.\n"
      ]
    },
    {
      "cell_type": "code",
      "execution_count": null,
      "metadata": {
        "collapsed": false
      },
      "outputs": [],
      "source": [
        "import matplotlib.pyplot as plt\nfrom polytex import kriging"
      ]
    },
    {
      "cell_type": "markdown",
      "metadata": {},
      "source": [
        "## Example 1\nMake up a test dataset\n\n"
      ]
    },
    {
      "cell_type": "code",
      "execution_count": null,
      "metadata": {
        "collapsed": false
      },
      "outputs": [],
      "source": [
        "x = [0, 2.5, 4, 4.5, 5.08]\ny = [5, 8, 9, 5, -3]\n\n# Note that the derivative is given as a list of (dy/dx) corresponding to x that\n# is also stored in a list.\nx_deriv = [0]\ny_deriv = [-1]\n\n# define the kriging model\nsum_ave = kriging.bd_Deriv_kriging_func(x, y, x_deriv, y_deriv, 'cst', 'cub', 100, 0)\n\nprint(sum_ave)\n\nplt.ylabel('y')\nplt.xlabel('x')\nplt.legend(loc='upper left', ncol=1)\n\nplt.clf() # clear matplotlib figure"
      ]
    },
    {
      "cell_type": "markdown",
      "metadata": {},
      "source": [
        "## Example 2\nMake up a test dataset\n\n"
      ]
    },
    {
      "cell_type": "code",
      "execution_count": null,
      "metadata": {
        "collapsed": false
      },
      "outputs": [],
      "source": [
        "x = [0, 1]\ny = [0, 0]\n\nx_deriv = [0.5]\ny_deriv = [1]\n\n# bd_Deriv_kriging_func(x, y, xDeriv, yDeriv, choixDerive, choixCov, plot_x_pts, nugg)\nsum_ave = kriging.bd_Deriv_kriging_func(x, y, x_deriv, y_deriv, 'cst', 'cub', 100, 0.005)"
      ]
    }
  ],
  "metadata": {
    "kernelspec": {
      "display_name": "Python 3",
      "language": "python",
      "name": "python3"
    },
    "language_info": {
      "codemirror_mode": {
        "name": "ipython",
        "version": 3
      },
      "file_extension": ".py",
      "mimetype": "text/x-python",
      "name": "python",
      "nbconvert_exporter": "python",
      "pygments_lexer": "ipython3",
      "version": "3.10.11"
    }
  },
  "nbformat": 4,
  "nbformat_minor": 0
}