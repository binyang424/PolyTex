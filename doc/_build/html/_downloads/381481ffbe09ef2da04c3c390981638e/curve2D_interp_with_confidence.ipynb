{
  "cells": [
    {
      "cell_type": "code",
      "execution_count": null,
      "metadata": {
        "collapsed": false
      },
      "outputs": [],
      "source": [
        "%matplotlib inline"
      ]
    },
    {
      "cell_type": "markdown",
      "metadata": {},
      "source": [
        "\n# Test\n\nTest\n"
      ]
    },
    {
      "cell_type": "code",
      "execution_count": null,
      "metadata": {
        "collapsed": false
      },
      "outputs": [],
      "source": [
        "import numpy as np\nfrom polykriging.kriging import curve2D\nimport polykriging as pk\nimport matplotlib.pyplot as plt\n\n# Make up some data\nX = np.linspace(start=0, stop=10, num=300)\ny = X * np.sin(X)\n\n# Choose some data points randomly for training\nrng = np.random.RandomState(1)\ntraining_indices = rng.choice(np.arange(y.size), size=16, replace=False)\n\nX_train, y_train = X[training_indices], y[training_indices]\n\ndata_set = np.hstack((X_train.reshape(-1, 1), y_train.reshape(-1, 1)))\n\nname_drift, name_cov = 'lin', 'cub'\nnuggetEffect = 0\n\n# # Matrice and vectors for dual Kriging formulation\n# mat_krig, mat_krig_inv, vector_ba, expr, func_drift, func_cov = \\\n#     curve2D.curveKrig1D(data_set, name_drift, name_cov, nuggetEffect=nuggetEffect)\n\n# Kriging model and prediction with mean, Kriging expression\n# and the corresponding standard deviation as output.\nmean_prediction, expr, std_prediction = curve2D.curve2Dinter(\n    data_set, name_drift, name_cov,\n    nuggetEffect=nuggetEffect, interp=X, return_std=True)\n\n# Plot the results\nplt.plot(X, y, label=r\"$f(x) = x \\sin(x)$\", linestyle=\"dotted\")\nplt.scatter(X_train, y_train, label=\"Observations\", s=50, zorder=10)\nplt.plot(X, mean_prediction, label=\"Mean prediction\")\nplt.fill_between(X.ravel(),\n                 mean_prediction - 1.96 * std_prediction,\n                 mean_prediction + 1.96 * std_prediction,\n                 alpha=0.5, label=r\"95% confidence interval\")\nplt.legend()\nplt.xlabel(\"$x$\")\nplt.ylabel(\"$f(x)$\")\n_ = plt.title(\"2D curve Kriging regression on noise-free dataset\")\n\nplt.show()\n\nexpr_dict = {\"cross\": expr}\npk.pk_save(\"FunXY.krig\", expr_dict)\nexpr_load = pk.pk_load(\"FunXY.krig\")"
      ]
    }
  ],
  "metadata": {
    "kernelspec": {
      "display_name": "Python 3",
      "language": "python",
      "name": "python3"
    },
    "language_info": {
      "codemirror_mode": {
        "name": "ipython",
        "version": 3
      },
      "file_extension": ".py",
      "mimetype": "text/x-python",
      "name": "python",
      "nbconvert_exporter": "python",
      "pygments_lexer": "ipython3",
      "version": "3.10.7"
    }
  },
  "nbformat": 4,
  "nbformat_minor": 0
}