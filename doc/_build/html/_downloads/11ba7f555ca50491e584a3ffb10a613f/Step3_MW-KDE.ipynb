{
  "cells": [
    {
      "cell_type": "code",
      "execution_count": null,
      "metadata": {
        "collapsed": false
      },
      "outputs": [],
      "source": [
        "%matplotlib inline"
      ]
    },
    {
      "cell_type": "markdown",
      "metadata": {},
      "source": [
        "\n# Moving window KDE\n\nTest\n"
      ]
    },
    {
      "cell_type": "code",
      "execution_count": null,
      "metadata": {
        "collapsed": false
      },
      "outputs": [],
      "source": [
        "import numpy as np\nimport polykriging as pk\nimport matplotlib.pyplot as plt\n\n# Input: parameters\nresolution = 0.022  # 0.022 mm\n# number of extrema (control points) for contour description\nextremaNum, windows, nuggets = 10, 1, [1e-3]\n\n''' Data loading '''\npath = pk.fileio.choose_file(titl=\"Directory for file CoordinatesSorted file (.coo)\", format=\".coo\")\ncoordinatesSorted = pk.pk_load(path)\n\n# read Y column from coordinatesSorted and convert to numpy array in int\nslices = np.array(coordinatesSorted[\"Y\"] / resolution, dtype=int)\n\nnslices = np.unique(slices).size\nt_norm = np.vstack((coordinatesSorted[\"normalized distance\"], slices)).T\n\n# bw = np.arange(0.01, 0.03, 0.01)  # specify a range for bandwidth optimization\n# initialize the bandwidth according to Scott's rule\nbw = 0.01\n\nkdeOutput, cluster_centers = pk.stats.movingKDE(t_norm, bw, windows, extremaNum)\n\nkdeOutput.plot(x=\"normalized distance\", y=\"probability density\")\nplt.show()"
      ]
    }
  ],
  "metadata": {
    "kernelspec": {
      "display_name": "Python 3",
      "language": "python",
      "name": "python3"
    },
    "language_info": {
      "codemirror_mode": {
        "name": "ipython",
        "version": 3
      },
      "file_extension": ".py",
      "mimetype": "text/x-python",
      "name": "python",
      "nbconvert_exporter": "python",
      "pygments_lexer": "ipython3",
      "version": "3.10.7"
    }
  },
  "nbformat": 4,
  "nbformat_minor": 0
}