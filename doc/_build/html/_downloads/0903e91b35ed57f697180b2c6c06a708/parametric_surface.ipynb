{
  "cells": [
    {
      "cell_type": "code",
      "execution_count": null,
      "metadata": {
        "collapsed": false
      },
      "outputs": [],
      "source": [
        "%matplotlib inline"
      ]
    },
    {
      "cell_type": "markdown",
      "metadata": {},
      "source": [
        "\n# Parametric kriging of surface\n\nTest\n"
      ]
    },
    {
      "cell_type": "code",
      "execution_count": null,
      "metadata": {
        "collapsed": false
      },
      "outputs": [],
      "source": [
        "# \uff01/usr/bin/env python\n# -*- coding: utf-8 -*-\n\nimport numpy as np\n\n# parametric kriging of surface\nfrom polytex.kriging.paraSurface import buildKriging, interp\n\nif __name__ == '__main__':\n    x = [[1, 1, 2],\n         [np.sqrt(2) / 2, 1 / 2, 0],\n         [0, 0, 1]]\n\n    y = [[0, 0, 1],\n         [np.sqrt(2) / 2, 1 / 2, 0],\n         [1, 1, 0]]\n\n    z = [[0, 0.5, 1],\n         [0, 0.5, 1],\n         [0, 0.5, 1]]\n\n    # define two symbolic variables (parameters) s and t\n    s = [0, 0.3, 1]  # rows\n    t = [0, 0.5, 1]  # columns\n\n    nugg = [0, 0.]\n\n    xexpr = buildKriging(s, t, x, ['lin', 'const'], ['cub', 'lin'], nugg)\n    yexpr = buildKriging(s, t, y, ['lin', 'const'], ['cub', 'lin'], nugg)\n    zexpr = buildKriging(s, t, z, ['lin', 'const'], ['cub', 'lin'], nugg)\n\n    # time the interpolation function\n    import time\n\n    start = time.time()\n\n    for i in range(1):\n        xinterp = interp(s, t, xexpr, split_complexity=0)\n        yinterp = interp(s, t, yexpr, split_complexity=0)\n        zinterp = interp(s, t, zexpr, split_complexity=0)\n\n    print('time: ', time.time() - start)"
      ]
    }
  ],
  "metadata": {
    "kernelspec": {
      "display_name": "Python 3",
      "language": "python",
      "name": "python3"
    },
    "language_info": {
      "codemirror_mode": {
        "name": "ipython",
        "version": 3
      },
      "file_extension": ".py",
      "mimetype": "text/x-python",
      "name": "python",
      "nbconvert_exporter": "python",
      "pygments_lexer": "ipython3",
      "version": "3.10.4"
    }
  },
  "nbformat": 4,
  "nbformat_minor": 0
}