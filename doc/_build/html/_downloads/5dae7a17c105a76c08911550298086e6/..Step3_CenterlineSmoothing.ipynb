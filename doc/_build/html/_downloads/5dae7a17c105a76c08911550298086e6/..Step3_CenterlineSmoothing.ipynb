{
  "cells": [
    {
      "cell_type": "code",
      "execution_count": null,
      "metadata": {
        "collapsed": false
      },
      "outputs": [],
      "source": [
        "%matplotlib inline"
      ]
    },
    {
      "cell_type": "markdown",
      "metadata": {},
      "source": [
        "\n# Test\n\nTest\n"
      ]
    },
    {
      "cell_type": "code",
      "execution_count": null,
      "metadata": {
        "collapsed": false
      },
      "outputs": [],
      "source": [
        "import numpy as np\nfrom polykriging import curve2D, utility, tool\nimport sympy as sym\nimport matplotlib.pyplot as plt\n\nfrom scipy.signal import argrelextrema  # data compression\n\n# the current work directory\ncwd = utility.cwd_chdir()\n\n# Load centroid data and assigned to the bezier points\nfilepath = \"D:/04_coding/Python/06_Visualization/Mesh/00_data_acquisition/3D_2_4_5layers/Long/centerline/0.csv\"\n# filepath = \"D:/04_coding/Python/06_Visualization/Mesh/00_data_acquisition/3D_2_4_5layers\" \\\n#            \"/Binder/Centerline/uBinder2/centerline.csv\"\ncenterline = np.loadtxt(filepath, delimiter = ',', skiprows = 1)\n\n\n# Reorganize the data for parametric kriging:\n# x\nmatXC = centerline[:, [0,2]]\nmatXC[:, [0,1]] = matXC[:, [1,0]]\n\nmatYC = centerline[:, [1,2]]\nmatYC[:, [0,1]] = matYC[:, [1,0]]\n\n# for local maxima\nmax_ind = argrelextrema(matYC[:,1], np.greater_equal)\n# for local minima\nmin_ind = argrelextrema(matYC[:,1], np.less)\nextrema_ind = np.hstack((max_ind, min_ind))\n\nadd = [  [2,  3,  4,  6,  9, 52, 53, 58, 60, 64, 73, 75,\n 76, 77, 78, 97, 99, 120, 121, 123, 128, 157, 159, 161,\n 162, 171]]\n\nextrema_ind = np.hstack((extrema_ind, add))\n\n# include end points\nextrema_ind = np.insert(extrema_ind,0,[0],axis=1)\nextrema_ind = np.insert(extrema_ind,-1,[len(matYC[:,1])-1],axis=1)\n# avoid repeat\nextrema_ind = np.unique(extrema_ind)\nextrema_ind.sort()   # sort by ascending\n\nxmat_krig, xmat_krig_inv, xvector_ba, xexpr = curve2D.curveKrig(\n    matXC[extrema_ind], 'const', 'lin',nuggetEffect=5e-2)\nymat_krig, ymat_krig_inv, yvector_ba, yexpr = curve2D.curveKrig(\n    matYC[extrema_ind], 'quad', 'lin',nuggetEffect=5e-2)\n\n\n##expr = {'Weft':{\"1\":[xexpr, yexpr]}}\n### Save the kriging expression\n##utility.expr_io(\"centerlineKrig.txt\", expr)\n\n#---------------------------------------------------------------------\n# Calculate the Kriged coordinate and the tangent\nx = sym.symbols('x')\n\ncoorKrig = np.zeros(centerline.shape)\nxf = sym.lambdify(x, xexpr, 'numpy')\ncoorKrig[:,0] = xf(centerline[:,2])\nyf = sym.lambdify(x, yexpr, 'numpy')\ncoorKrig[:,1] = yf(centerline[:,2])\n\ndef unitVector(vector, ax = 1):\n    \"\"\" Returns the unit vector of the vector.  \"\"\"\n    norm = np.zeros(vector.shape)\n    normValue = np.linalg.norm(vector, axis = ax)\n    for i in np.arange(vector.shape[0]):\n        norm[i,:] = normValue[i]\n    return vector / norm\n\ntangent = np.zeros(centerline.shape)\nxexprDeri = sym.diff(xexpr, x)\nxderf = sym.lambdify(x, xexprDeri, 'numpy')\ntangent[:,0] = xderf(centerline[:,2]+0.0001)\nyexprDeri = sym.diff(yexpr, x)\nyderf = sym.lambdify(x, yexprDeri, 'numpy')\ntangent[:,1] = yderf(centerline[:,2]+0.0001)\ntangent[:,2] = 1  # z direction (iSlice)\n\ntangent = unitVector(tangent, ax = 1)\n\n\nfig = plt.figure()\nax = fig.add_subplot()   # fig.add_subplot(projection='3d')\nax.scatter(centerline[:,2], centerline[:,0], marker='o', label = 'XC')\nax.scatter(centerline[:,2], centerline[:,1], marker='^', label = 'YC')\nax.plot(centerline[:,2], coorKrig[:,0],  '-', label = 'Centerline')\nax.plot(centerline[:,2], coorKrig[:,1], '--', label = 'Kriging')\nax.set_xlabel('Slice')\nax.set_ylabel('XC & YC/voxel')\n##ax.set_xlim(0, 275)\n##ax.set_ylim(225, 275)\nax.legend(loc='best')\n\n# Error plot\nfig2 = plt.figure()\nax2 = fig2.add_subplot()\ndist = np.sqrt((centerline[:,0] - coorKrig[:,0])**2 + (centerline[:,1] - coorKrig[:,1])**2)\nax2.plot(centerline[:,2], dist, '-', label = 'error')\n\nax2.set_xlabel('Slice')\nax2.set_ylabel('local error/voxel')\n\niSlice, yerror = ax2.get_lines()[0].get_data()\nboo = yerror>0.75\n\nfor i in iSlice[boo]:\n    indexErr = np.argwhere(iSlice == i)\n    print(indexErr[0][0])\n\nplt.tight_layout(pad=0.4, w_pad=0.5, h_pad=1.0)\nplt.show()\n\n# \u6570\u636e\u538b\u7f29 (nuggetEffect=0)\n# \u7528\u53c2\u6570\u65b9\u7a0b\u6c42\u5207\u7ebf"
      ]
    }
  ],
  "metadata": {
    "kernelspec": {
      "display_name": "Python 3",
      "language": "python",
      "name": "python3"
    },
    "language_info": {
      "codemirror_mode": {
        "name": "ipython",
        "version": 3
      },
      "file_extension": ".py",
      "mimetype": "text/x-python",
      "name": "python",
      "nbconvert_exporter": "python",
      "pygments_lexer": "ipython3",
      "version": "3.10.7"
    }
  },
  "nbformat": 4,
  "nbformat_minor": 0
}