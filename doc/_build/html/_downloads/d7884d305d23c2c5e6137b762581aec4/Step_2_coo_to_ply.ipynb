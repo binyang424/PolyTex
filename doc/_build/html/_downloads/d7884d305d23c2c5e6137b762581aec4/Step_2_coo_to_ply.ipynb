{
  "cells": [
    {
      "cell_type": "markdown",
      "metadata": {},
      "source": [
        "\n# Step 2: Convert .coo file to .ply for point cloud visualization\n\ninput: .coo file\noutput: .ply file\n\nIf interpolate is True, the points farther than the given threshold (normalzied distance) will be linearly interpolated to avoid distortion in tetralization  process.\n"
      ]
    },
    {
      "cell_type": "code",
      "execution_count": null,
      "metadata": {
        "collapsed": false
      },
      "outputs": [],
      "source": [
        "import polytex as pk\n\npath = pk.io.choose_directory(titl=\"coo files\")\ncwd = pk.io.cwd_chdir(path)\n\nfilenames = pk.io.filenames(path, \"coo\")\n\nfor filename in filenames:\n    # extract the yarn number from the filename string using regular expression\n    import re\n    yarn = int(re.findall(r'\\d+', filename)[0])\n    print(yarn)\n    if yarn in range(0, 50):\n        # coo file to ply file\n        pk.coo_to_ply(filename, filename.replace(\"coo\", \"ply\"), binary=False, interpolate=True, threshold=0.02)\n        # pcd file to ply file\n        # pk.pcd_to_ply(filename, filename.replace(\"pcd\", \"ply\"), binary=False)"
      ]
    }
  ],
  "metadata": {
    "kernelspec": {
      "display_name": "Python 3",
      "language": "python",
      "name": "python3"
    },
    "language_info": {
      "codemirror_mode": {
        "name": "ipython",
        "version": 3
      },
      "file_extension": ".py",
      "mimetype": "text/x-python",
      "name": "python",
      "nbconvert_exporter": "python",
      "pygments_lexer": "ipython3",
      "version": "3.10.11"
    }
  },
  "nbformat": 4,
  "nbformat_minor": 0
}