{
  "cells": [
    {
      "cell_type": "code",
      "execution_count": null,
      "metadata": {
        "collapsed": false
      },
      "outputs": [],
      "source": [
        "%matplotlib inline"
      ]
    },
    {
      "cell_type": "markdown",
      "metadata": {},
      "source": [
        "\n# Step 4: Resampling\n\nTest\n"
      ]
    },
    {
      "cell_type": "code",
      "execution_count": null,
      "metadata": {
        "collapsed": false
      },
      "outputs": [],
      "source": [
        "import matplotlib.pyplot as plt\nfrom polytex.kriging import curve2D\nimport numpy as np\nimport polytex as pk\n\n\"\"\"   Overfitting test    \"\"\"\nii = 0\nfor iSlice in [250 * 0.022]:\n    # for iSlice in slices[0:6]:\n    print(ii)\n    ii += 1\n    # return the index of the slice satisfying the condition\n    index = np.where(coordinatesSorted[:, -1] == iSlice)\n    # average of the index\n    indexAvg = int(np.average(index))\n\n    # extrema: \u884c\u4e3a\u7a97\u53e3\uff0c0\u5217\u4e3a\u5305\u542b\u5728\u8be5\u7a97\u53e3\u7684\u70b9\u7684\u7ec8\u6b62\u5e8f\u53f7\uff0c\u5176\u4f59\u5217\u4e3a\u6781\u503c\u70b9\n    for i in range(cluster_centers[:, 0].size):  # \u5373\u904d\u5386\u6bcf\u4e00\u4e2a\u7a97\u53e3\n        if indexAvg < cluster_centers[i, 0]:\n            interp = kdeOutput[kdeOutput[:, 0] == i, 1][np.int32(cluster_centers[i, 1:])]\n\n    mask = coordinatesSorted[:, -1] == iSlice\n    # \u9009\u51fa\u5f53\u524dslice\u7684\u5f52\u4e00\u5316\u8ddd\u79bb\u548c\u5750\u6807xyz\u6570\u636e\n    coordinate = coordinatesSorted[:, [1, -3, -2, -1]][mask]\n    # \u5bf9\u6570\u636e\u8fdb\u884c\u7ebf\u6027\u63d2\u503c\uff0c\u4e00\u904d\u63d0\u9ad8Kriging\u7684\u7cbe\u5ea6\n    coordinate = curve2D.addPoints(coordinate, threshold=0.02)\n\n    plt.close('all')\n    ax1 = plt.subplot(1, 1, 1)\n\n    for nugget in nuggets:\n        # \u63d2\u503c\u7ed3\u679c\uff0c\u63d2\u503c\u8868\u8fbe\u5f0f\n        # xinter, xexpr = curve2D.curve2Dinter(coordinate[:, [0, 1] ],\n        #                              'lin', \"lin\", nugget, interp )\n        # yinter, yexpr = curve2D.curve2Dinter(coordinate[:, [0, 2] ],\n        #                              'lin', \"lin\", nugget, interp )\n\n        # Split the data to improve interpolation quality\n        # and the efficiency of kriging\n        mask1 = coordinate[:, 0] < 0.5\n        mask2 = coordinate[:, 0] >= 0.5\n        xinter, xexpr = curve2D.curve2Dinter(coordinate[:, [0, 1]][mask1],\n                                             'lin', \"lin\", nugget, interp[interp < 0.5])\n        yinter, yexpr = curve2D.curve2Dinter(coordinate[:, [0, 2]][mask1],\n                                             'lin', \"lin\", nugget, interp[interp < 0.5])\n        xinterSplit, _ = curve2D.curve2Dinter(coordinate[:, [0, 1]][mask2],\n                                              'lin', \"lin\", nugget, interp[interp >= 0.5])\n        yinterSplit, _ = curve2D.curve2Dinter(coordinate[:, [0, 2]][mask2],\n                                              'lin', \"lin\", nugget, interp[interp >= 0.5])\n        xinter = np.hstack((xinter, xinterSplit))\n        yinter = np.hstack((yinter, yinterSplit))\n\n        # ax1.plot(xinter, yinter, '--', label = str(nugget), linewidth = 1)\n        ax1.scatter(xinter, yinter, s=40, marker='+', color='red')\n        ax1.set_xlabel('X (mm)')\n        ax1.set_ylabel('Y (mm)')\n        ax1.invert_yaxis()  # y\u8f74\u53cd\u5411\n\n    ax1.fill(coordinate[:, 1], coordinate[:, 2], alpha=0.3, color='pink')\n\n    plt.legend()\n    ax1.axis(\"equal\")\n    plt.show()\n\n''' Polar plot: angular position - normalized distance '''\n# #fig = plt.figure()\n# #ax = fig.add_subplot(projection='polar')\n# ## ax.set_ylabel('Normalized distance')\n# ## The following angle positions should be in radians.\n# #ax.scatter(coordinatesSorted[:, 2]/360*2*np.pi, coordinatesSorted[:,1],\n# #           alpha = 0.7, s = 1 )\n# ## reference line for a circle:\n# #ax.plot(np.arange(0, 2*np.pi, 2*np.pi/360), np.arange(0,1,1/360), linestyle='--', color = 'red' )\n# ##plt.show()"
      ]
    }
  ],
  "metadata": {
    "kernelspec": {
      "display_name": "Python 3",
      "language": "python",
      "name": "python3"
    },
    "language_info": {
      "codemirror_mode": {
        "name": "ipython",
        "version": 3
      },
      "file_extension": ".py",
      "mimetype": "text/x-python",
      "name": "python",
      "nbconvert_exporter": "python",
      "pygments_lexer": "ipython3",
      "version": "3.10.4"
    }
  },
  "nbformat": 4,
  "nbformat_minor": 0
}