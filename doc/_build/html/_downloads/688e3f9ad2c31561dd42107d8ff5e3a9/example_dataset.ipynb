{
  "cells": [
    {
      "cell_type": "markdown",
      "metadata": {},
      "source": [
        "\n# Example dataset\n\nWe provide several example datasets for testing and demonstration purposes.\nThis file shows how to download and load the example datasets. By default,\nthe datasets are stored in the user's current working directory in a folder\ncalled ``test_data``. This can be changed by specifying the path as demonstrated\nbelow.\n"
      ]
    },
    {
      "cell_type": "markdown",
      "metadata": {},
      "source": [
        "## Check the available datasets\n\n"
      ]
    },
    {
      "cell_type": "code",
      "execution_count": null,
      "metadata": {
        "collapsed": false
      },
      "outputs": [],
      "source": [
        "import polykriging as pk\npk.example(data_name=\"all\")"
      ]
    },
    {
      "cell_type": "markdown",
      "metadata": {},
      "source": [
        "## Downloading the example datasets\n\nThe example datasets are hosted on a public Github repository.\nTo download the datasets, use the ``polykriging.example()`` function.\nThis function will download the datasets to the user's current working\ndirectory in a folder called ``test_data``. This can be changed by specifying\nthe path using the entry ``outdir``.\n\n"
      ]
    },
    {
      "cell_type": "code",
      "execution_count": null,
      "metadata": {
        "collapsed": false
      },
      "outputs": [],
      "source": [
        "pk.example(\"surface points\", outdir=\"./test_data/\")"
      ]
    },
    {
      "cell_type": "markdown",
      "metadata": {},
      "source": [
        "The input and output of the example datasets will be described in the examples\nfor polyKriging.fileio module.\n\n"
      ]
    }
  ],
  "metadata": {
    "kernelspec": {
      "display_name": "Python 3",
      "language": "python",
      "name": "python3"
    },
    "language_info": {
      "codemirror_mode": {
        "name": "ipython",
        "version": 3
      },
      "file_extension": ".py",
      "mimetype": "text/x-python",
      "name": "python",
      "nbconvert_exporter": "python",
      "pygments_lexer": "ipython3",
      "version": "3.10.11"
    }
  },
  "nbformat": 4,
  "nbformat_minor": 0
}