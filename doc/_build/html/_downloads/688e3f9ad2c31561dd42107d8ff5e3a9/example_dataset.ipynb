{
  "cells": [
    {
      "cell_type": "code",
      "execution_count": null,
      "metadata": {
        "collapsed": false
      },
      "outputs": [],
      "source": [
        "%matplotlib inline"
      ]
    },
    {
      "cell_type": "markdown",
      "metadata": {},
      "source": [
        "\n# Example dataset\n\nWe provide several example datasets for testing and demonstration purposes.\nThis file shows how to download and load the example datasets. By default,\nthe datasets are stored in the user's current working directory in a folder\ncalled ``test_data``. This can be changed by specifying the path as demonstrated\nbelow.\n"
      ]
    },
    {
      "cell_type": "code",
      "execution_count": null,
      "metadata": {
        "collapsed": false
      },
      "outputs": [],
      "source": [
        "import polykriging as pk"
      ]
    },
    {
      "cell_type": "markdown",
      "metadata": {},
      "source": [
        "## Downloading the example datasets\n\nThe example datasets are hosted on a public github repository.\nTo download the datasets, use the ``polykriging.example()`` function.\nThis function will download the datasets to the user's current working\ndirectory in a folder called ``test_data``. This can be changed by specifying\nthe path.\n\n"
      ]
    },
    {
      "cell_type": "code",
      "execution_count": null,
      "metadata": {
        "collapsed": false
      },
      "outputs": [],
      "source": [
        "pk.example(\"git\")"
      ]
    }
  ],
  "metadata": {
    "kernelspec": {
      "display_name": "Python 3",
      "language": "python",
      "name": "python3"
    },
    "language_info": {
      "codemirror_mode": {
        "name": "ipython",
        "version": 3
      },
      "file_extension": ".py",
      "mimetype": "text/x-python",
      "name": "python",
      "nbconvert_exporter": "python",
      "pygments_lexer": "ipython3",
      "version": "3.10.4"
    }
  },
  "nbformat": 4,
  "nbformat_minor": 0
}