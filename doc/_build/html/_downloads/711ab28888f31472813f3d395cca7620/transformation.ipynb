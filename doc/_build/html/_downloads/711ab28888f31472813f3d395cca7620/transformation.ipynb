{
  "cells": [
    {
      "cell_type": "markdown",
      "metadata": {},
      "source": [
        "\n# Coordinate transformation\nThe following code is a demonstration of coordinate transformation using direct\ncosine matrix (DCM) and Euler angles (phi, theta, psi).\n"
      ]
    },
    {
      "cell_type": "code",
      "execution_count": null,
      "metadata": {
        "collapsed": false
      },
      "outputs": [],
      "source": [
        "import polykriging as pk\nfrom polykriging.geometry import transform as tf\nimport numpy as np\nimport pyvista as pv\n\nimport matplotlib.pyplot as plt"
      ]
    },
    {
      "cell_type": "markdown",
      "metadata": {},
      "source": [
        "## Load test data\n\n"
      ]
    },
    {
      "cell_type": "code",
      "execution_count": null,
      "metadata": {
        "collapsed": false
      },
      "outputs": [],
      "source": [
        "path = pk.example(data_name=\"cross-section\")\ndata = pv.read(path)\nnormal = [0.43583834, -0.00777955, -0.89999134]\ndata.plot()"
      ]
    },
    {
      "cell_type": "markdown",
      "metadata": {},
      "source": [
        "## Get the data points and its centroid\nThe example data is a cross-section of a woven fabric stored in a vtk file.\nThis can be loaded using pyvista as shown above. Now we get the points and\nthe centroid of the cross-section. We will use the centroid as the origin\nof the local coordinate system.\n\n"
      ]
    },
    {
      "cell_type": "code",
      "execution_count": null,
      "metadata": {
        "collapsed": false
      },
      "outputs": [],
      "source": [
        "points = data.points\ncentroid = np.mean(points, axis=0)"
      ]
    },
    {
      "cell_type": "markdown",
      "metadata": {},
      "source": [
        "## Translation\nMove the centroid to the origin of global coordinate system.\nNote that we did not import the translation function so far.\nSo the user should translate the local coordinate system to\nthe origin before calling the rotation functions.\n\n"
      ]
    },
    {
      "cell_type": "code",
      "execution_count": null,
      "metadata": {
        "collapsed": false
      },
      "outputs": [],
      "source": [
        "points = points - centroid"
      ]
    },
    {
      "cell_type": "markdown",
      "metadata": {},
      "source": [
        "## Euler angles for rotation\nWe want to rotate the global coordinate system to align its z-axis\nwith the normal vector of the cross-section. To do this, we need to\nfind the euler angles (phi, theta, psi).\n\n"
      ]
    },
    {
      "cell_type": "code",
      "execution_count": null,
      "metadata": {
        "collapsed": false
      },
      "outputs": [],
      "source": [
        "angles = tf.euler_z_noraml(normal)"
      ]
    },
    {
      "cell_type": "markdown",
      "metadata": {},
      "source": [
        "## Direct cosine matrix\nNow we can use the euler angles to construct the DCM:\n\n"
      ]
    },
    {
      "cell_type": "code",
      "execution_count": null,
      "metadata": {
        "collapsed": false
      },
      "outputs": [],
      "source": [
        "dcm = tf.e123_dcm(*angles)"
      ]
    },
    {
      "cell_type": "markdown",
      "metadata": {},
      "source": [
        "## Check the result\nRotate the points\n\n"
      ]
    },
    {
      "cell_type": "code",
      "execution_count": null,
      "metadata": {
        "collapsed": false
      },
      "outputs": [],
      "source": [
        "points1 = np.dot(dcm, points.T).T\n\n# Plot the rotated points\nplt.plot(points1[:, 0], points1[:, 1], \"o\")\n# equal aspect ratio\nplt.gca().set_aspect(\"equal\", adjustable=\"box\")\nplt.show()"
      ]
    },
    {
      "cell_type": "markdown",
      "metadata": {},
      "source": [
        "# Note\n ------------------------------------------------------------\n We need to sort the points first before using them to\n construct a polygon and find the area or perimeter.\n\n"
      ]
    },
    {
      "cell_type": "markdown",
      "metadata": {},
      "source": [
        "## Align the old coordinate system with a new one\nAbove we aligned the z-axis of the global coordinate system\nwith a given vector but without considering the x- and y-axes.\nNow we want to align the old coordinate system with a new one\ndefined by two vectors: z_new and x_new. The following code\nshows how to do this.\n\n"
      ]
    },
    {
      "cell_type": "code",
      "execution_count": null,
      "metadata": {
        "collapsed": false
      },
      "outputs": [],
      "source": [
        "x_new = points[np.argmax(np.linalg.norm(points, axis=1))]\n\nangles2 = tf.euler_zx_coordinate(normal, x_new)\ndcm = tf.e123_dcm(*angles2)\npoints2 = np.dot(dcm, points.T).T"
      ]
    },
    {
      "cell_type": "markdown",
      "metadata": {},
      "source": [
        "## Check the result\nPlot the rotated points\n\n"
      ]
    },
    {
      "cell_type": "code",
      "execution_count": null,
      "metadata": {
        "collapsed": false
      },
      "outputs": [],
      "source": [
        "plt.plot(points2[:, 0], points2[:, 1], \"o\")\nplt.scatter(0, 0, c=\"r\")\n# equal aspect ratio\nplt.gca().set_aspect(\"equal\", adjustable=\"box\")\nplt.show()"
      ]
    },
    {
      "cell_type": "markdown",
      "metadata": {},
      "source": [
        "## Compare\nA comparison between the direct cosine matrix and the coordinate\nthe basis vectors of the original coordinate system after rotation.\n\n"
      ]
    },
    {
      "cell_type": "code",
      "execution_count": null,
      "metadata": {
        "collapsed": false
      },
      "outputs": [],
      "source": [
        "basis = np.eye(3)\nprint(np.dot(dcm, basis.T).T)\nprint(dcm)"
      ]
    }
  ],
  "metadata": {
    "kernelspec": {
      "display_name": "Python 3",
      "language": "python",
      "name": "python3"
    },
    "language_info": {
      "codemirror_mode": {
        "name": "ipython",
        "version": 3
      },
      "file_extension": ".py",
      "mimetype": "text/x-python",
      "name": "python",
      "nbconvert_exporter": "python",
      "pygments_lexer": "ipython3",
      "version": "3.10.11"
    }
  },
  "nbformat": 4,
  "nbformat_minor": 0
}