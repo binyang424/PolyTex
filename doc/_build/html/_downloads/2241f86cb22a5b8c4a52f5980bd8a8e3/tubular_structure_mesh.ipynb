{
  "cells": [
    {
      "cell_type": "code",
      "execution_count": null,
      "metadata": {
        "collapsed": false
      },
      "outputs": [],
      "source": [
        "%matplotlib inline"
      ]
    },
    {
      "cell_type": "markdown",
      "metadata": {},
      "source": [
        "\n# Tubular mesh with functions in polytex.mesh\nThe fiber tow surface can be regarded as a tubular structure. Thus, it is\nimportant to construct a tubular mesh for further analysis.\n\nThis example shows how to create a tubular mesh with constant cross-section. The\ncross-section is defined by a set of ellipse points. The parameters of the\nellipse are the major and minor axis, and the number of points on the ellipse.\n\nNote that we already implemented a primitive geometry generator in\npolytex.geometry.Tube class. It is recommended to use that class to\ngenerate tubular mesh. This example is only for demonstration purpose.\n"
      ]
    },
    {
      "cell_type": "code",
      "execution_count": null,
      "metadata": {
        "collapsed": false
      },
      "outputs": [],
      "source": [
        "import polytex.mesh as ms\nimport meshio\n\ntheta_res = 5\nh_res = 5\nh = 15\na = 4\nb = 1"
      ]
    },
    {
      "cell_type": "markdown",
      "metadata": {},
      "source": [
        "## Generate the tubular mesh vertices\n\n"
      ]
    },
    {
      "cell_type": "code",
      "execution_count": null,
      "metadata": {
        "collapsed": false
      },
      "outputs": [],
      "source": [
        "points = ms.structured_cylinder_vertices(a=a, b=b, h=h,\n                                         theta_res=theta_res, h_res=h_res)"
      ]
    },
    {
      "cell_type": "markdown",
      "metadata": {},
      "source": [
        "## Generate the tubular mesh cells\n\n"
      ]
    },
    {
      "cell_type": "code",
      "execution_count": null,
      "metadata": {
        "collapsed": false
      },
      "outputs": [],
      "source": [
        "mesh = ms.tubular_mesh_generator(theta_res=theta_res+1,\n                                 h_res=h_res,\n                                 vertices=points)\nmesh.plot(show_edges=True)"
      ]
    },
    {
      "cell_type": "markdown",
      "metadata": {},
      "source": [
        "## Extract information from the mesh object\n\n"
      ]
    },
    {
      "cell_type": "code",
      "execution_count": null,
      "metadata": {
        "collapsed": false
      },
      "outputs": [],
      "source": [
        "points, cells, point_data, cell_data = ms.to_meshio_data(mesh,\n                                                         theta_res,\n                                                         correction=True)"
      ]
    },
    {
      "cell_type": "markdown",
      "metadata": {},
      "source": [
        "## Write the mesh to a file with meshio\n\n"
      ]
    },
    {
      "cell_type": "code",
      "execution_count": null,
      "metadata": {
        "collapsed": false
      },
      "outputs": [],
      "source": [
        "meshio.write_points_cells(\n    filename=\"cylinder.ply\",\n    points=points,\n    cells=cells, binary=False\n)"
      ]
    }
  ],
  "metadata": {
    "kernelspec": {
      "display_name": "Python 3",
      "language": "python",
      "name": "python3"
    },
    "language_info": {
      "codemirror_mode": {
        "name": "ipython",
        "version": 3
      },
      "file_extension": ".py",
      "mimetype": "text/x-python",
      "name": "python",
      "nbconvert_exporter": "python",
      "pygments_lexer": "ipython3",
      "version": "3.10.4"
    }
  },
  "nbformat": 4,
  "nbformat_minor": 0
}