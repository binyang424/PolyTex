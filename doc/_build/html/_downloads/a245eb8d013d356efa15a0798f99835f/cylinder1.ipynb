{
  "cells": [
    {
      "cell_type": "code",
      "execution_count": null,
      "metadata": {
        "collapsed": false
      },
      "outputs": [],
      "source": [
        "%matplotlib inline"
      ]
    },
    {
      "cell_type": "markdown",
      "metadata": {},
      "source": [
        "\n# Test\n\nTest\n"
      ]
    },
    {
      "cell_type": "code",
      "execution_count": null,
      "metadata": {
        "collapsed": false
      },
      "outputs": [],
      "source": [
        "import numpy as np\nfrom matplotlib import pyplot as plt\nfrom mpl_toolkits.mplot3d import Axes3D\nfrom scipy.spatial import Delaunay\nfrom polykriging import surf2stl\n\nfig = plt.figure()\nax = fig.add_subplot(111, projection='3d')\norigin = np.array([0, 0, 0])\n\n# Axis of the elliptical cylinder\np0 = np.array([0, 0, 0])\np1 = np.array([10, 0, 0])\n\n# Radius\nR1 = 2\nR2 = 1\n\n# Vector in direction of axis\nv = p1 - p0\nmag = np.linalg.norm(v)     # magnitude of vector\nv = v / mag                 #unit vector in direction of axis\n\n# Make some vector not in the same direction as v\nnot_v = np.array([1, 0, 0])\nif (v == not_v).all():\n    not_v = np.array([0, 1, 0])\n\n# Make vector perpendicular to v\nn1 = np.cross(v, not_v)\nn1 /= np.linalg.norm(n1)    #normalize n1\n\n# Make unit vector perpendicular to v and n1\nn2 = np.cross(v, n1)\n\n\n# Surface ranges over t from 0 to length of axis and 0 to 2*pi\nt = np.linspace(0, mag, 40)\ntheta = np.linspace(0, 2 * np.pi, 50)\nt, theta = np.meshgrid(t, theta)    #use meshgrid to make 2d arrays\n\n\n# Generate coordinates for surface\nX, Y, Z = [p0[i] + v[i] * t + R1 * np.sin(theta) * n1[i] + R2* np.cos(theta) * n2[i] for i in [0, 1, 2]]\n\n\nT, Theta = t.flatten(), theta.flatten()\n\nX, Y, Z = X.flatten(), Y.flatten(), Z.flatten()\n\n\ndelaunay_tri = Delaunay(np.array([T, Theta]).T)\nsurf2stl.tri_write('mobius.stl', X, Y, Z, delaunay_tri)\n\n##ax.plot_surface(X, Y, Z)\n###plot axis\n##ax.plot(*zip(p0, p1), color = 'red')\n####ax.set_xlim(0, 10)\n####ax.set_ylim(0, 10)\n####ax.set_zlim(0, 10)\n##plt.show()"
      ]
    }
  ],
  "metadata": {
    "kernelspec": {
      "display_name": "Python 3",
      "language": "python",
      "name": "python3"
    },
    "language_info": {
      "codemirror_mode": {
        "name": "ipython",
        "version": 3
      },
      "file_extension": ".py",
      "mimetype": "text/x-python",
      "name": "python",
      "nbconvert_exporter": "python",
      "pygments_lexer": "ipython3",
      "version": "3.10.4"
    }
  },
  "nbformat": 4,
  "nbformat_minor": 0
}