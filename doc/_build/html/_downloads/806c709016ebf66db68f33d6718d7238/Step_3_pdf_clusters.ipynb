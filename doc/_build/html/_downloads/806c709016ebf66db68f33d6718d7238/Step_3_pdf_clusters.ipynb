{
  "cells": [
    {
      "cell_type": "code",
      "execution_count": null,
      "metadata": {
        "collapsed": false
      },
      "outputs": [],
      "source": [
        "%matplotlib inline"
      ]
    },
    {
      "cell_type": "markdown",
      "metadata": {},
      "source": [
        "\n# PDF-based point clustering\n\nThis example shows how to estimate the probability density function (pdf) of the\ninput data and cluster the data points based on the pdf analysis.\n\nKernel density estimation (KDE) is a non-parametric way to estimate the probability\ndensity function of a random variable. The extrema of the pdf are used as the cluster\ncenters. The initial bandwidth of the kernel is estimated by Scott's rule.\n"
      ]
    },
    {
      "cell_type": "code",
      "execution_count": null,
      "metadata": {
        "collapsed": false
      },
      "outputs": [],
      "source": [
        "import numpy as np\nimport matplotlib.pyplot as plt\nimport matplotlib as mpl\nimport polytex as ptx\nimport os\n\n# Conversion factor from pixel to mm\nresolution = 0.022  # 0.022 mm\n# number of control points for contour description\nextremaNum, windows, nuggets = 30, 5, [1e-3]"
      ]
    },
    {
      "cell_type": "markdown",
      "metadata": {},
      "source": [
        "## Data loading\n\n"
      ]
    },
    {
      "cell_type": "code",
      "execution_count": null,
      "metadata": {
        "collapsed": false
      },
      "outputs": [],
      "source": [
        "path = ptx.choose_file(titl=\"Directory for the file containing \"\n                           \"sorted coordinates (.coo)\", format=\".coo\")\nfilename = os.path.basename(path)\ncoordinatesSorted = ptx.pk_load(path)"
      ]
    },
    {
      "cell_type": "markdown",
      "metadata": {},
      "source": [
        "## Initial bandwidth estimation by Scott's rule\nUsing Scott's rule, an initial bandwidth for kernel density estimation\nis calculated from the standard deviation of the normalized distances\nin coordinatesSorted.\n\n"
      ]
    },
    {
      "cell_type": "code",
      "execution_count": null,
      "metadata": {
        "collapsed": false
      },
      "outputs": [],
      "source": [
        "t_norm = coordinatesSorted[\"normalized distance\"]\nstd = np.std(t_norm)\nbw = ptx.stats.bw_scott(std, t_norm.size) / 2\nprint(\"Initial bandwidth: {}\".format(bw))"
      ]
    },
    {
      "cell_type": "markdown",
      "metadata": {},
      "source": [
        "## Kernel density estimation\nkdeScreen method from ptx.stats is used to find the kernel density\nestimation for a linear space spanning from 0 to 1 with 1000 points.\n\n"
      ]
    },
    {
      "cell_type": "code",
      "execution_count": null,
      "metadata": {
        "collapsed": false
      },
      "outputs": [],
      "source": [
        "t_test = np.linspace(0, 1, 1000)\nclusters = ptx.stats.kdeScreen(t_norm, t_test, bw, plot=False)\n\n# log-likelihood\nLL = ptx.stats.log_likelihood(clusters[\"pdf input\"])"
      ]
    },
    {
      "cell_type": "markdown",
      "metadata": {},
      "source": [
        "## Save pdf analysis\nResults from the KDE are saved with a filename that includes cluster\ncenters information and the computed bandwidth.\n\n"
      ]
    },
    {
      "cell_type": "code",
      "execution_count": null,
      "metadata": {
        "collapsed": false
      },
      "outputs": [],
      "source": [
        "cluster_centers = clusters[\"cluster centers\"]\nptx.pk_save(filename[:-4] + \"_clusters\" + str(len(cluster_centers)) +\n           \"_bw\" + str(round(bw, 3)) + \".stat\", clusters)"
      ]
    },
    {
      "cell_type": "markdown",
      "metadata": {},
      "source": [
        "## Reload pdf analysis results\nThe previously saved statistical data can be reloaded as follows:\n\n"
      ]
    },
    {
      "cell_type": "code",
      "execution_count": null,
      "metadata": {
        "collapsed": false
      },
      "outputs": [],
      "source": [
        "reload = ptx.pk_load(filename[:-4] + \"_clusters\" + str(len(cluster_centers)) +\n                    \"_bw\" + str(round(bw, 3)) + \".stat\")"
      ]
    },
    {
      "cell_type": "markdown",
      "metadata": {},
      "source": [
        "## Plot pdf analysis\nThe pdf analysis is plotted with the scatters colored by the radial\nnormalized distance (ax1) and the cluster labels (ax2).\n\n"
      ]
    },
    {
      "cell_type": "code",
      "execution_count": null,
      "metadata": {
        "collapsed": false
      },
      "outputs": [],
      "source": [
        "plt.close('all')\nfig, (ax1, ax2) = plt.subplots(nrows=2, ncols=1, figsize=(8, 5))\n# fig.subplots_adjust(bottom=0.5)\ncmap1 = mpl.cm.cool\ncmap2 = mpl.cm.jet\n\n\"\"\" color the scatters with the radial normalized distance \"\"\"\nax1.scatter(coordinatesSorted[\"X\"], coordinatesSorted[\"Y\"], s=25,\n            c=clusters[\"t input\"], cmap=cmap1, alpha=1 / 2, edgecolors='none')\n\n\"\"\" color the scatters with cluster labels \"\"\"\n# colorize the scatter plot according to clusters\ncolor = ptx.color_cluster(clusters)\nax2.scatter(coordinatesSorted[\"X\"], coordinatesSorted[\"Y\"], s=25,\n            c=color, cmap=cmap2, alpha=1 / 2, edgecolors='none', label=\"bw = %.2f\" % bw)\n\nax2.set_xlabel('x (mm)')\nax1.set_ylabel('y (mm)')\nax2.set_ylabel('y (mm)')\n# remove the ticks in ax1\nax1.tick_params(axis='x', which='both', bottom=False, top=False,\n                labelbottom=False)\nax1.set_aspect(2)  # aspect ratio: y/x\nax2.set_aspect(2)  # aspect ratio: y/x\nplt.subplots_adjust(wspace=0, hspace=0)\nplt.tight_layout()\nplt.show()\n\n\"\"\" colorbar \"\"\"\nfig2, ax1 = plt.subplots(figsize=(6, 1))\nfig2.subplots_adjust(bottom=0.5)\n\nbounds = np.arange(0, len(cluster_centers))\nnorm = mpl.colors.BoundaryNorm(bounds, cmap2.N,\n                               # extend='both'\n                               )\n\nfig.colorbar(mpl.cm.ScalarMappable(norm=norm, cmap=cmap2),\n             cax=ax1, orientation='horizontal', label='pdf')\nplt.show()"
      ]
    }
  ],
  "metadata": {
    "kernelspec": {
      "display_name": "Python 3",
      "language": "python",
      "name": "python3"
    },
    "language_info": {
      "codemirror_mode": {
        "name": "ipython",
        "version": 3
      },
      "file_extension": ".py",
      "mimetype": "text/x-python",
      "name": "python",
      "nbconvert_exporter": "python",
      "pygments_lexer": "ipython3",
      "version": "3.10.4"
    }
  },
  "nbformat": 4,
  "nbformat_minor": 0
}