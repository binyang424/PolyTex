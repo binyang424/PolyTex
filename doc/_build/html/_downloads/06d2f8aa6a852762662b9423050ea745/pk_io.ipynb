{
  "cells": [
    {
      "cell_type": "markdown",
      "metadata": {},
      "source": [
        "\n# File input and output\nAll the functions related to file input and output were defined in\n`polytex.io` module. These functions allow users to read\nand write files tailored for `polytex`. The functions in this module\ncan be directly called by `polytex.` + `function name`. For example,\nto call the function choose_file, use `polytex.io.choose_file`\nor simply `polytex.choose_file`.\n\nFor more information about these file formats, please refer to\n\"https://polytex.readthedocs.io/\".\n\n1. File selection\nIn polytex, two function were provided to facilitate file selection: `polytex.choose_file` and `polytexchoose_directory`.\n2. File reading and writing\n"
      ]
    },
    {
      "cell_type": "code",
      "execution_count": null,
      "metadata": {
        "collapsed": false
      },
      "outputs": [],
      "source": [
        "import numpy as np\nimport pandas as pd\nimport polytex as ptx"
      ]
    },
    {
      "cell_type": "markdown",
      "metadata": {},
      "source": [
        "## Select file and return the path\nThe function `polytex.choose_file()` allows users to select a file from\na directory with a GUI. The function returns the path of the selected file.\nUsers can also specify the file type and the title of the GUI window as below:\n\n"
      ]
    },
    {
      "cell_type": "code",
      "execution_count": null,
      "metadata": {
        "collapsed": false
      },
      "outputs": [],
      "source": [
        "path = ptx.choose_file(titl=\"Directory for file CoordinatesSorted file (.coo)\", format=\".coo\")\ncoordinatesSorted = ptx.pk_load(path)"
      ]
    },
    {
      "cell_type": "markdown",
      "metadata": {},
      "source": [
        "## Traverse and return a list of filenames in the directory\nThe function `polytex.filenames()` allows users to traverse a directory\nand return a list of filenames with a given extension.\n\n"
      ]
    },
    {
      "cell_type": "code",
      "execution_count": null,
      "metadata": {
        "collapsed": false
      },
      "outputs": [],
      "source": [
        "label_row = pd.date_range(\"20130101\", periods=6, freq=\"D\", tz=\"UTC\")\nlabel_col = list(\"ABCD\")\ndata = np.random.randn(6, 4)\ndf = pd.DataFrame(data, index=label_row, columns=label_col)\n\n# save\nptx.pk_save(\"./test_data/test.coo\", df)\n\n# load\ndf = ptx.pk_load(\"./test_data/test.coo\")"
      ]
    }
  ],
  "metadata": {
    "kernelspec": {
      "display_name": "Python 3",
      "language": "python",
      "name": "python3"
    },
    "language_info": {
      "codemirror_mode": {
        "name": "ipython",
        "version": 3
      },
      "file_extension": ".py",
      "mimetype": "text/x-python",
      "name": "python",
      "nbconvert_exporter": "python",
      "pygments_lexer": "ipython3",
      "version": "3.9.13"
    }
  },
  "nbformat": 4,
  "nbformat_minor": 0
}