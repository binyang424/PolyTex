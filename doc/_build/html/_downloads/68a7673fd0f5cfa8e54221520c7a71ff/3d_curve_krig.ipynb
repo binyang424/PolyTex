{
  "cells": [
    {
      "cell_type": "markdown",
      "metadata": {},
      "source": [
        "\n# 3D curve kriging\n\nThis example shows how to use the 3D curve kriging method to interpolate a\n3D curve:\n\n\\begin{align}z = f(x, y)\\end{align}\n\nIn this example, we use the following equation to generate a 3D curve for\nillustration:\n\n\\begin{align}x=\\sin(t), y= \\cos(t), z= \\cos(8t)\\end{align}\n\nNote that the function name is possibly been modified in future versions.\n"
      ]
    },
    {
      "cell_type": "code",
      "execution_count": null,
      "metadata": {
        "collapsed": false
      },
      "outputs": [],
      "source": [
        "import numpy as np\nfrom polytex.kriging.mdKrig import buildKriging, interp\n\nimport matplotlib.pyplot as plt"
      ]
    },
    {
      "cell_type": "markdown",
      "metadata": {},
      "source": [
        "## Prepare the data for kriging interpolation\nThe data for kriging interpolation should be an array of xy data in shape of\n(n, 2) and an array of z data in shape of (n, 1).\n\n"
      ]
    },
    {
      "cell_type": "code",
      "execution_count": null,
      "metadata": {
        "collapsed": false
      },
      "outputs": [],
      "source": [
        "t_rad = np.linspace(0, 2 * np.pi, 10)\n\nxy = np.hstack((np.sin(t_rad).reshape(-1, 1), np.cos(t_rad).reshape(-1, 1)))\nz = np.cos(8 * t_rad)"
      ]
    },
    {
      "cell_type": "markdown",
      "metadata": {},
      "source": [
        "## Build the kriging model\nThe kriging model is built by the function :func:`buildKriging`. The possible\ndrift functions are: ``lin``, ``quad``, and ``cub``, namely, the linear, quadratic\nand cubic drift functions. The default drift function is ``lin``. The possible\ncovariance functions are: ``lin``, and ``cub``.\nNugget effect (nugg) is used for the smoothing of the curve.\n\n"
      ]
    },
    {
      "cell_type": "code",
      "execution_count": null,
      "metadata": {
        "collapsed": false
      },
      "outputs": [],
      "source": [
        "expr = buildKriging(xy, z, 'lin', 'cub', nugg=100)\n\nzInterp = interp(xy, expr)"
      ]
    },
    {
      "cell_type": "markdown",
      "metadata": {},
      "source": [
        "## Plot the result\n\n"
      ]
    },
    {
      "cell_type": "code",
      "execution_count": null,
      "metadata": {
        "collapsed": false
      },
      "outputs": [],
      "source": [
        "fig = plt.figure()\nax = fig.add_subplot(111, projection='3d')\n# ax.plot(xy[:, 0], xy[:, 1], z, '--', label='data')\nax.plot(xy[:, 0], xy[:, 1], zInterp, label='interp/nugg=1')\nax.set_xlabel('x')\nax.set_ylabel('y')\nax.set_zlabel('z')\nax.legend()\nplt.show()"
      ]
    }
  ],
  "metadata": {
    "kernelspec": {
      "display_name": "Python 3",
      "language": "python",
      "name": "python3"
    },
    "language_info": {
      "codemirror_mode": {
        "name": "ipython",
        "version": 3
      },
      "file_extension": ".py",
      "mimetype": "text/x-python",
      "name": "python",
      "nbconvert_exporter": "python",
      "pygments_lexer": "ipython3",
      "version": "3.10.11"
    }
  },
  "nbformat": 4,
  "nbformat_minor": 0
}