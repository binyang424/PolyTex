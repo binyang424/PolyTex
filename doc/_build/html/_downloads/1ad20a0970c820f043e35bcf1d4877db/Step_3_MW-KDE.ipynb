{
  "cells": [
    {
      "cell_type": "code",
      "execution_count": null,
      "metadata": {
        "collapsed": false
      },
      "outputs": [],
      "source": [
        "%matplotlib inline"
      ]
    },
    {
      "cell_type": "markdown",
      "metadata": {},
      "source": [
        "\n# Step 3: Moving window KDE\n\nThis example shows how to use the moving window KDE to resample the control\npoints of the tow.\n"
      ]
    },
    {
      "cell_type": "markdown",
      "metadata": {},
      "source": [
        "## Load example dataset\n\n"
      ]
    },
    {
      "cell_type": "code",
      "execution_count": null,
      "metadata": {
        "collapsed": false
      },
      "outputs": [],
      "source": [
        "import numpy as np\nimport polytex as pk\nimport matplotlib.pyplot as plt\n\n# Input: parameters\nresolution = 0.022  # 0.022 mm\n# number of extrema (control points) for contour description\nextremaNum, windows, nuggets = 10, 2, [1e-3]\n\npath = pk.example(\"sorted coordinate\")\ncoordinatesSorted = pk.pk_load(path)"
      ]
    },
    {
      "cell_type": "markdown",
      "metadata": {},
      "source": [
        "## Visualize the dataset (a tow contour)\nThe tow contour is described by a set of control points. The control points\ncan be labeled by its z coordinate (the scaning slices) since the dataset is\nobtained from Micro CT scanning. The control points are sorted by its z coordinate.\n\n"
      ]
    },
    {
      "cell_type": "code",
      "execution_count": null,
      "metadata": {
        "collapsed": false
      },
      "outputs": [],
      "source": [
        "fig = plt.figure()\nax = fig.add_subplot(projection='3d')\n\nx = coordinatesSorted[\"X\"].to_numpy()\ny = coordinatesSorted[\"Y\"].to_numpy()\nz = coordinatesSorted[\"Z\"].to_numpy()\nax.scatter(x, y, z, s=1, marker=\"o\", c=z)\n\nax.set_xlabel(\"X\")\nax.set_ylabel(\"Y\")\nax.set_zlabel(\"Z\")\nax.set_title(\"Control points of a fiber tow\")\nax.set_aspect(\"equal\")\nplt.show()"
      ]
    },
    {
      "cell_type": "markdown",
      "metadata": {},
      "source": [
        "## Slice number of the tow\n\n"
      ]
    },
    {
      "cell_type": "code",
      "execution_count": null,
      "metadata": {
        "collapsed": false
      },
      "outputs": [],
      "source": [
        "slices = np.array(coordinatesSorted[\"Z\"] / resolution, dtype=int)\nnslices = np.unique(slices).size  # number of slices"
      ]
    },
    {
      "cell_type": "markdown",
      "metadata": {},
      "source": [
        "## Dataset preparation for moving window kernel density estimation\n\n"
      ]
    },
    {
      "cell_type": "code",
      "execution_count": null,
      "metadata": {
        "collapsed": false
      },
      "outputs": [],
      "source": [
        "t_norm = np.vstack((coordinatesSorted[\"normalized distance\"], slices)).T\n\n# bw = np.arange(0.01, 0.03, 0.01)  # specify a range for bandwidth optimization\n# initialize the bandwidth according to Scott's rule\nbw = 0.01\n\nkdeOutput, cluster_centers = pk.stats.movingKDE(t_norm, bw, windows, extremaNum)\n\nkdeOutput.plot(x=\"normalized distance\", y=\"probability density\")\nplt.show()"
      ]
    }
  ],
  "metadata": {
    "kernelspec": {
      "display_name": "Python 3",
      "language": "python",
      "name": "python3"
    },
    "language_info": {
      "codemirror_mode": {
        "name": "ipython",
        "version": 3
      },
      "file_extension": ".py",
      "mimetype": "text/x-python",
      "name": "python",
      "nbconvert_exporter": "python",
      "pygments_lexer": "ipython3",
      "version": "3.10.4"
    }
  },
  "nbformat": 4,
  "nbformat_minor": 0
}