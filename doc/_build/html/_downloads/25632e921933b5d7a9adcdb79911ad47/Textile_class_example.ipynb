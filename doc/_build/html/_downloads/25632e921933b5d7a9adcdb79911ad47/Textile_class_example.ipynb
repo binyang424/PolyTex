{
  "cells": [
    {
      "cell_type": "markdown",
      "metadata": {},
      "source": [
        "\n# Textile class example\nThis example shows how to use the Textile class in PolyTex package. It is designed to handle the parametrization and geometrical analysis of a fiber Textile. A Tow instance is created by passing the point cloud of a tow, which consists only the points on the Textile surface, to the constructor.\n"
      ]
    },
    {
      "cell_type": "code",
      "execution_count": null,
      "metadata": {
        "collapsed": false
      },
      "outputs": [],
      "source": [
        "import numpy as np\nfrom tqdm.auto import tqdm\nimport polytex as pk\nfrom polytex.geometry import Plane"
      ]
    },
    {
      "cell_type": "markdown",
      "metadata": {},
      "source": [
        "## Create a textile object\n1. create a textile object\n2. add tows to the textile object\n3. add groups to the textile object\n4. remove tows from the textile object. The same tows in self.groups will be\n   removed automatically.\n\n"
      ]
    },
    {
      "cell_type": "code",
      "execution_count": null,
      "metadata": {
        "collapsed": false
      },
      "outputs": [],
      "source": [
        "textile = pk.Textile(name=\"TG96N_Vf57\")\nprint(textile.name)\n\npath = \"../Data/22um_Vf57/05_processed_data/transformation/tow/weft/\"\nfiles = pk.filenames(path, \".tow\")[1:-2]\n\nfor file in tqdm(files):\n    print(file)\n    tow = pk.pk_load(path + file)\n    textile.add_tow(tow)\n\nprint(textile.tows)\nprint(textile.tows.keys())\n\ntextile.remove(\"weft_1\")  # remove a tow from the textile object\nprint(textile.tows.keys())\n\nweft_2 = textile.tows[\"weft_2\"]\ntextile.add_group(name=\"weft\", tow=weft_2)  # add an existing tow to the group\nprint(textile.groups)\n\n# add an empty group\ntextile.add_group(name=\"warp\")\nprint(textile.groups)\n\ntow_new = pk.pk_load(path + files[-1])\nprint(tow_new.name)\ntextile.add_group(name=\"weft\", tow=tow_new)  # add a new tow to the group\nprint(textile.groups)"
      ]
    },
    {
      "cell_type": "markdown",
      "metadata": {},
      "source": [
        "## Create a background mesh for the textile domain\n1. define the bounding box of the textile domain\n2. define the voxel size\n3. generate the background mesh with textile.mesh()\n\n"
      ]
    },
    {
      "cell_type": "code",
      "execution_count": null,
      "metadata": {
        "collapsed": false
      },
      "outputs": [],
      "source": [
        "bbox = np.array((0.6, 12, 1.07, 14.19, 0.15, 5.5))\nvoxel_size = [0.132, 0.132, 0.066]\ntextile.mesh(bbox, voxel_size=voxel_size, show=False)"
      ]
    }
  ],
  "metadata": {
    "kernelspec": {
      "display_name": "Python 3",
      "language": "python",
      "name": "python3"
    },
    "language_info": {
      "codemirror_mode": {
        "name": "ipython",
        "version": 3
      },
      "file_extension": ".py",
      "mimetype": "text/x-python",
      "name": "python",
      "nbconvert_exporter": "python",
      "pygments_lexer": "ipython3",
      "version": "3.10.11"
    }
  },
  "nbformat": 4,
  "nbformat_minor": 0
}