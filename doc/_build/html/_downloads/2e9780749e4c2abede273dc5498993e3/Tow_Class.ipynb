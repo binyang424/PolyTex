{
  "cells": [
    {
      "cell_type": "markdown",
      "metadata": {},
      "source": [
        "\n# Tow class example\nThis example shows how to use the PolyKriging Tow class. The tow class is\ndesigned to handle the parametrization and geometrical analysis of a fiber tow.\nA Tow instance is created by passing the surface points of the tow to the\nconstructor.\n"
      ]
    },
    {
      "cell_type": "code",
      "execution_count": null,
      "metadata": {
        "collapsed": false
      },
      "outputs": [],
      "source": [
        "import polykriging as pk\nimport numpy as np"
      ]
    },
    {
      "cell_type": "markdown",
      "metadata": {},
      "source": [
        "## Example dataset\nLoad the surface points of fiber tow\n\n"
      ]
    },
    {
      "cell_type": "code",
      "execution_count": null,
      "metadata": {
        "collapsed": false
      },
      "outputs": [],
      "source": [
        "path = pk.example(\"surface points\")\nsurf_points = pk.pk_load(path).to_numpy()"
      ]
    },
    {
      "cell_type": "markdown",
      "metadata": {},
      "source": [
        "We clip the coordinates to discard the part of the tow that is necessary for\nthe modeling of the tow.\n\n"
      ]
    },
    {
      "cell_type": "code",
      "execution_count": null,
      "metadata": {
        "collapsed": false
      },
      "outputs": [],
      "source": [
        "mask = (surf_points[:, 0] > 1.1 - 0.2) & (surf_points[:, 0] < 11.55 + 0.2)\nsurf_points_clip = surf_points[mask]"
      ]
    },
    {
      "cell_type": "markdown",
      "metadata": {},
      "source": [
        "Exchange the first and last column for geometry analysis. Note that\nthe last column is deemed as the label column. Namely, the points\nwith the same label are considered as belonging to the same slice and\nare parametrized in the radial direction (theta). This data reorder\nis necessary for the users.\n\n"
      ]
    },
    {
      "cell_type": "code",
      "execution_count": null,
      "metadata": {
        "collapsed": false
      },
      "outputs": [],
      "source": [
        "coordinates = surf_points_clip[:, [2, 1, 0]]"
      ]
    },
    {
      "cell_type": "markdown",
      "metadata": {},
      "source": [
        "We can filtering the points to remove noise or the points that are not necessary:\nmask = abs(coordinates[:, -1] - 9.196) > 0.09\ncoordinates = coordinates[mask]\n\n"
      ]
    },
    {
      "cell_type": "markdown",
      "metadata": {},
      "source": [
        "Utilization of the PolyKriging Tow class\nCreate a Tow instance\n----------------------\n\n"
      ]
    },
    {
      "cell_type": "code",
      "execution_count": null,
      "metadata": {
        "collapsed": false
      },
      "outputs": [],
      "source": [
        "tow = pk.Tow(surf_points=coordinates, tex=0, name=\"binder_4\", order=\"zyx\")"
      ]
    },
    {
      "cell_type": "markdown",
      "metadata": {},
      "source": [
        "Get the parametric coordinates of the tow: The points on the same slice\nare parametrized in the radial direction (theta) and stored in the\nnormalized distance column of the attribute, tow.coordinates, a pandas\nDataFrame.\n\n"
      ]
    },
    {
      "cell_type": "code",
      "execution_count": null,
      "metadata": {
        "collapsed": false
      },
      "outputs": [],
      "source": [
        "df_coord = tow.coordinates  # parametric coordinates of the tow"
      ]
    },
    {
      "cell_type": "markdown",
      "metadata": {},
      "source": [
        "Get the geometrical features of the tow: The geometrical features of the tow\nare stored in the attribute, tow.geom_features, a pandas DataFrame.\nFor straight fiber tows, the geometrical features can be used as an approximation\nof the actual tow geometry. But for wavy tows, such as binder, the geometrical\nfeatures are not accurate enough. We need to redo the geometrical analysis\nafter identifying the normal cross-sections of the tow.\n\n"
      ]
    },
    {
      "cell_type": "code",
      "execution_count": null,
      "metadata": {
        "collapsed": false
      },
      "outputs": [],
      "source": [
        "df_geom = tow.geom_features  # geometrical features of the tow"
      ]
    },
    {
      "cell_type": "markdown",
      "metadata": {},
      "source": [
        "## Resampling\nResampling the control points of the tow with a uniform spacing in the\nnormalized distance direction. The resampling is necessary to create a\nparametric representation based on dual kriging.\n\n"
      ]
    },
    {
      "cell_type": "code",
      "execution_count": null,
      "metadata": {
        "collapsed": false
      },
      "outputs": [],
      "source": [
        "theta_res = 35  # number of control points in the radial direction\nsample_position = np.linspace(0, 1, theta_res, endpoint=True)  # equal spaced points (normalized distance)\npts_krig, expr_krig = tow.resampling(krig_config=(\"lin\", \"cub\"),\n                                     skip=2, sample_position=sample_position,\n                                     smooth=0.0001)"
      ]
    },
    {
      "cell_type": "markdown",
      "metadata": {},
      "source": [
        "## Save and reload the tow instance\ntow.save(\"./tow/binder_4.tow\")\ntow = np.load(\"./tow/binder_4.tow\", allow_pickle=True).tolist()\n\n"
      ]
    },
    {
      "cell_type": "markdown",
      "metadata": {},
      "source": [
        "## Plot the tow\n\n"
      ]
    },
    {
      "cell_type": "code",
      "execution_count": null,
      "metadata": {
        "collapsed": false
      },
      "outputs": [],
      "source": [
        "mesh = tow.surf_mesh(plot=True, save_path=\"./test_data/binder_4.ply\", end_closed=True)"
      ]
    },
    {
      "cell_type": "markdown",
      "metadata": {},
      "source": [
        "## Smooth the tow trajectory with Kriging\n\n"
      ]
    },
    {
      "cell_type": "code",
      "execution_count": null,
      "metadata": {
        "collapsed": false
      },
      "outputs": [],
      "source": [
        "trajectory_sm = tow.trajectory(smooth=0.0015, plot=False,\n                               save_path=\"./test_data/trajectory.ply\", orientation=True)"
      ]
    },
    {
      "cell_type": "markdown",
      "metadata": {},
      "source": [
        "## Axial and radial lines\nGet the axial lines of the tow (the lines connecting the parametrized control points in\nthe axial direction)\n\n"
      ]
    },
    {
      "cell_type": "code",
      "execution_count": null,
      "metadata": {
        "collapsed": false
      },
      "outputs": [],
      "source": [
        "line_axi = tow.axial_lines(plot=True)\n\n# Get the radial lines of the tow (the lines connecting the parametrized control points in\n# the radial direction)\nline_rad = tow.radial_lines(plot=True)"
      ]
    },
    {
      "cell_type": "markdown",
      "metadata": {},
      "source": [
        "## Get the normal cross-sections of the tow\nSo far, we provide two methods to get the normal cross-sections of the tow.\nThe first method wraps the intersection function of plane and surface mesh\nin the pyvista package. The second method is based on the intersection of\na parametric curve and a implicit plane.\n\n"
      ]
    },
    {
      "cell_type": "code",
      "execution_count": null,
      "metadata": {
        "collapsed": false
      },
      "outputs": [],
      "source": [
        "cross_section, plane = tow.normal_cross_section(algorithm=\"pyvista\")"
      ]
    },
    {
      "cell_type": "markdown",
      "metadata": {},
      "source": [
        "## Update the geometrical features of the tow\nThe geometrical features of the tow are stored in the attribute, tow.geom_features, a pandas DataFrame.\nYou have this information once the tow instance is created. However, that is calculated based on the vertical\ncross-sections of the tow. A more accurate geometrical analysis can be done during the identification of\nthe normal cross-sections with the class method, Tow.normal_cross_section.\nHard copy to prevent the modification by the kriging method.\n\n"
      ]
    },
    {
      "cell_type": "code",
      "execution_count": null,
      "metadata": {
        "collapsed": false
      },
      "outputs": [],
      "source": [
        "df_geom_pv = tow.geom_features.copy()\n\ncross_section, plane = tow.normal_cross_section(algorithm=\"kriging\")\ndf_geom_krig = tow.geom_features"
      ]
    },
    {
      "cell_type": "markdown",
      "metadata": {},
      "source": [
        "## Geometry features\nas shwon above, the tow geometry features can be updated after the normal cross-sections\nare identified using both method. However, the accuracy are different. The pyvista method\nis faster but less accurate. In the kriging method, we transform the identified cross-sections\nto a 2d plane. The geometry features are then calculated based on the 2d coordinates. Thus, the\ngeometry features are more accurate than the pyvista method. However, this also makes the\nkriging method less efficient. The kriging method is recommended for wavy tows, such as binder.\n\n"
      ]
    }
  ],
  "metadata": {
    "kernelspec": {
      "display_name": "Python 3",
      "language": "python",
      "name": "python3"
    },
    "language_info": {
      "codemirror_mode": {
        "name": "ipython",
        "version": 3
      },
      "file_extension": ".py",
      "mimetype": "text/x-python",
      "name": "python",
      "nbconvert_exporter": "python",
      "pygments_lexer": "ipython3",
      "version": "3.10.11"
    }
  },
  "nbformat": 4,
  "nbformat_minor": 0
}