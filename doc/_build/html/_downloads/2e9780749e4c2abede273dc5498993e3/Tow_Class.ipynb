{
  "cells": [
    {
      "cell_type": "markdown",
      "metadata": {},
      "source": [
        "\n# Tow class example\nThis example shows how to use the Tow class in PolyTex package. It is designed to handle the parametrization and geometrical analysis of a fiber tow. A Tow instance is created by passing the point cloud of a tow, which consists only the points on the tow surface, to the constructor.\n"
      ]
    },
    {
      "cell_type": "markdown",
      "metadata": {},
      "source": [
        "## Example dataset\n\n"
      ]
    },
    {
      "cell_type": "code",
      "execution_count": null,
      "metadata": {
        "collapsed": false
      },
      "outputs": [],
      "source": [
        "import polytex as ptx\nimport numpy as np\n\n# Load the surface points of fiber tow\npath = ptx.example(\"surface points\")\nsurf_points = ptx.read_explicit_data(path)\n\nresolution = 0.022  # mm/pixel\nsurf_points = surf_points * resolution  # convert to millimeters"
      ]
    },
    {
      "cell_type": "markdown",
      "metadata": {},
      "source": [
        "We clip the coordinates to discard the part of the tow that is necessary for\nthe modeling of the tow. Optional.\n\n"
      ]
    },
    {
      "cell_type": "code",
      "execution_count": null,
      "metadata": {
        "collapsed": false
      },
      "outputs": [],
      "source": [
        "mask = (surf_points[:, 0] > 1.1 - 0.2) & (surf_points[:, 0] < 11.55 + 0.2)\nsurf_points_clip = surf_points[mask]"
      ]
    },
    {
      "cell_type": "markdown",
      "metadata": {},
      "source": [
        "Exchange the first and last column for geometry analysis. Note that\nthe last column is deemed as the label column. Namely, the points\nwith the same label are considered as belonging to the same slice and\nare parametrized in the radial direction (theta). This data reorder\nis necessary for the users.\n\n"
      ]
    },
    {
      "cell_type": "code",
      "execution_count": null,
      "metadata": {
        "collapsed": false
      },
      "outputs": [],
      "source": [
        "coordinates = surf_points_clip[:, [0, 1, 2]]"
      ]
    },
    {
      "cell_type": "markdown",
      "metadata": {},
      "source": [
        "We can filtering the points to remove noise or the points that are not necessary:\nmask = abs(coordinates[:, -1] - 9.196) > 0.09\ncoordinates = coordinates[mask]\n\n"
      ]
    },
    {
      "cell_type": "markdown",
      "metadata": {},
      "source": [
        "## Create a Tow instance with PolyTex Tow class\n\n"
      ]
    },
    {
      "cell_type": "code",
      "execution_count": null,
      "metadata": {
        "collapsed": false
      },
      "outputs": [],
      "source": [
        "tow = ptx.Tow(\n        surf_points=coordinates,\n        order=\"xyz\",\n        rho_fiber=2550,\n        radius_fiber=6.5e-6,\n        length_scale=\"mm\", tex=1100,\n        name=\"weft_0\")"
      ]
    },
    {
      "cell_type": "markdown",
      "metadata": {},
      "source": [
        "Get the parametric coordinates of the tow: The points on the same slice\nare parametrized in the radial direction (theta) and stored in the\nnormalized distance column of the attribute, tow.coordinates, a pandas\nDataFrame.\n\n"
      ]
    },
    {
      "cell_type": "code",
      "execution_count": null,
      "metadata": {
        "collapsed": false
      },
      "outputs": [],
      "source": [
        "df_coord = tow.coordinates  # parametric coordinates of the tow"
      ]
    },
    {
      "cell_type": "markdown",
      "metadata": {},
      "source": [
        "Get the geometrical features of the tow: The geometrical features of the tow\nare stored in the attribute, tow.geom_features, a pandas DataFrame.\nFor straight fiber tows, the geometrical features can be used as an approximation\nof the actual tow geometry. But for wavy tows, such as binder, the geometrical\nfeatures are not accurate enough. We need to redo the geometrical analysis\nafter identifying the normal cross-sections of the tow.\n\n"
      ]
    },
    {
      "cell_type": "code",
      "execution_count": null,
      "metadata": {
        "collapsed": false
      },
      "outputs": [],
      "source": [
        "df_geom = tow.geom_features  # geometrical features of the tow"
      ]
    },
    {
      "cell_type": "markdown",
      "metadata": {},
      "source": [
        "## Resampling\nResampling the control points of the tow with a uniform spacing in the\nnormalized distance direction. The resampling is necessary to create a\nparametric representation based on dual kriging.\n\n"
      ]
    },
    {
      "cell_type": "code",
      "execution_count": null,
      "metadata": {
        "collapsed": false
      },
      "outputs": [],
      "source": [
        "# Equidistant resampling of the tow control points in the radial direction.\ntheta_res = 40  # number of control points in the radial direction\nsample_position = np.linspace(0, 1, theta_res, endpoint=True)  # equal spaced points (normalized distance)\n\n# # Resampling according to distribution density\n# cluster = tow.kde(bw=0.004)\n# sample_position = cluster[\"cluster centers\"]\n\npts_krig, expr_krig = tow.resampling(krig_config=(\"lin\", \"cub\"),\n                                     skip=5, sample_position=sample_position,\n                                     smooth=0.00001)"
      ]
    },
    {
      "cell_type": "markdown",
      "metadata": {},
      "source": [
        "## Save and reload the tow instance\ntow.save(\"./tow/weft_0.tow\")\n\n"
      ]
    },
    {
      "cell_type": "markdown",
      "metadata": {},
      "source": [
        "## Plot the tow\n\n"
      ]
    },
    {
      "cell_type": "code",
      "execution_count": null,
      "metadata": {
        "collapsed": false
      },
      "outputs": [],
      "source": [
        "mesh = tow.surf_mesh(plot=True, save_path=\"./test_data/weft_0.ply\", end_closed=True)"
      ]
    },
    {
      "cell_type": "markdown",
      "metadata": {},
      "source": [
        "## Smooth the tow trajectory with Kriging\n\n"
      ]
    },
    {
      "cell_type": "code",
      "execution_count": null,
      "metadata": {
        "collapsed": false
      },
      "outputs": [],
      "source": [
        "trajectory_sm = tow.trajectory(smooth=0.0015, plot=False,\n                               save_path=\"./test_data/trajectory.ply\", orientation=True)"
      ]
    },
    {
      "cell_type": "markdown",
      "metadata": {},
      "source": [
        "## Axial and radial lines\nGet the axial lines of the tow (the lines connecting the parametrized control points in\nthe axial direction)\n\n"
      ]
    },
    {
      "cell_type": "code",
      "execution_count": null,
      "metadata": {
        "collapsed": false
      },
      "outputs": [],
      "source": [
        "line_axi = tow.axial_lines(plot=True)\n\n# Get the radial lines of the tow (the lines connecting the parametrized control points in\n# the radial direction)\nline_rad = tow.radial_lines(plot=True)"
      ]
    },
    {
      "cell_type": "markdown",
      "metadata": {},
      "source": [
        "## Get the normal cross-sections of the tow\nSo far, we provide two methods to get the normal cross-sections of the tow.\nThe first method wraps the intersection function of plane and surface mesh\nin the pyvista package. The second method is based on the intersection of\na parametric curve and an implicit plane.\n\n"
      ]
    },
    {
      "cell_type": "code",
      "execution_count": null,
      "metadata": {
        "collapsed": false
      },
      "outputs": [],
      "source": [
        "cross_section, planes, clipped = tow.normal_cross_section(algorithm=\"pyvista\")"
      ]
    },
    {
      "cell_type": "markdown",
      "metadata": {},
      "source": [
        "## Update the geometrical features of the tow\nThe geometrical features of the tow are stored in the attribute, tow.geom_features, a pandas DataFrame.\nYou have this information once the tow instance is created. However, that is calculated based on the vertical\ncross-sections of the tow. A more accurate geometrical analysis can be done during the identification of\nthe normal cross-sections with the class method, Tow.normal_cross_section.\nAcess the updated geometry features according to the normal cross-sections.\n\n"
      ]
    },
    {
      "cell_type": "code",
      "execution_count": null,
      "metadata": {
        "collapsed": false
      },
      "outputs": [],
      "source": [
        "df_geom_pv = tow.geom_features.copy()"
      ]
    },
    {
      "cell_type": "markdown",
      "metadata": {},
      "source": [
        "## Get the normal cross-sections of the tow\nThe kriging method is based on the intersection of a parametric curve and an implicit plane.\n\n"
      ]
    },
    {
      "cell_type": "code",
      "execution_count": null,
      "metadata": {
        "collapsed": false
      },
      "outputs": [],
      "source": [
        "cross_section, plane, clipped = tow.normal_cross_section(algorithm=\"kriging\", plot=True,\n                                                             i_size=2, j_size=3, skip=15)\n# Acess the updated geometry features according to the normal cross-sections.\ndf_geom_krig = tow.geom_features"
      ]
    },
    {
      "cell_type": "markdown",
      "metadata": {},
      "source": [
        "## Geometry features\nas shwon above, the tow geometry features can be updated after the normal cross-sections\nare identified using both method. However, the accuracy are different. The pyvista method\nis faster but less accurate. In the kriging method, we transform the identified cross-sections\nto a 2d plane. The geometry features are then calculated based on the 2d coordinates. Thus, the\ngeometry features are more accurate than the pyvista method. However, this also makes the\nkriging method less efficient. The kriging method is recommended for wavy tows, such as binder.\n\n"
      ]
    }
  ],
  "metadata": {
    "kernelspec": {
      "display_name": "Python 3",
      "language": "python",
      "name": "python3"
    },
    "language_info": {
      "codemirror_mode": {
        "name": "ipython",
        "version": 3
      },
      "file_extension": ".py",
      "mimetype": "text/x-python",
      "name": "python",
      "nbconvert_exporter": "python",
      "pygments_lexer": "ipython3",
      "version": "3.9.13"
    }
  },
  "nbformat": 4,
  "nbformat_minor": 0
}