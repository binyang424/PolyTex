{
  "cells": [
    {
      "cell_type": "code",
      "execution_count": null,
      "metadata": {
        "collapsed": false
      },
      "outputs": [],
      "source": [
        "%matplotlib inline"
      ]
    },
    {
      "cell_type": "markdown",
      "metadata": {},
      "source": [
        "\n# Tow class example\nThis example shows how to use the PolyKriging Tow class. The tow class is\ndesigned to handle the parametrization and geometrical analysis of a fiber tow.\nA Tow instance is created by passing the surface points of the tow to the\nconstructor.\n"
      ]
    },
    {
      "cell_type": "code",
      "execution_count": null,
      "metadata": {
        "collapsed": false
      },
      "outputs": [],
      "source": [
        "import polykriging as pk\nimport numpy as np\n\n\"\"\"Parametrization & Geometrical analysis (vertical cut plane)\"\"\"\n# Load the surface points of fiber tow\npath = pk.example(\"surface points\")\nsurf_points = pk.pk_load(path).to_numpy()"
      ]
    },
    {
      "cell_type": "markdown",
      "metadata": {},
      "source": [
        "We clip the coordinates to discard the part of the tow that is necessary for\nthe modeling of the tow.\n\n"
      ]
    },
    {
      "cell_type": "code",
      "execution_count": null,
      "metadata": {
        "collapsed": false
      },
      "outputs": [],
      "source": [
        "mask = (surf_points[:, 0] > 1.1 - 0.2) & (surf_points[:, 0] < 11.55 + 0.2)\nsurf_points_clip = surf_points[mask]"
      ]
    },
    {
      "cell_type": "markdown",
      "metadata": {},
      "source": [
        "Exchange the first and last column for geometry analysis. Note that\nthe last column is deemed as the label column. Namely, the points\nwith the same label are considered as belonging to the same slice and\nare parametrized in the radial direction (theta). This data reorder\nis necessary for the users.\n\n"
      ]
    },
    {
      "cell_type": "code",
      "execution_count": null,
      "metadata": {
        "collapsed": false
      },
      "outputs": [],
      "source": [
        "coordinates = surf_points_clip[:, [2, 1, 0]]\n\n# # filtering the points\n# mask = abs(coordinates[:, -1] - 9.196) > 0.09\n# coordinates = coordinates[mask]\n\n\"\"\" Utilization of the PolyKriging Tow class \"\"\"\n# Create a Tow instance\ntow = pk.Tow(surf_points=coordinates, tex=0, name=\"binder_4\", order=\"zyx\")\n\n# Get the parametric coordinates of the tow: The points on the same slice\n# are parametrized in the radial direction (theta) and stored in the\n# normalized distance column of the attribute, tow.coordinates, a pandas\n# DataFrame.\ndf_coord = tow.coordinates  # parametric coordinates of the tow\n\n# Get the geometrical features of the tow: The geometrical features of the tow\n# are stored in the attribute, tow.geom_features, a pandas DataFrame.\n# For straight fiber tows, the geometrical features can be used as an approximation\n# of the actual tow geometry. But for wavy tows, such as binder, the geometrical\n# features are not accurate enough. We need to redo the geometrical analysis\n# after identifying the normal cross-sections of the tow.\ndf_geom = tow.geom_features  # geometrical features of the tow"
      ]
    },
    {
      "cell_type": "markdown",
      "metadata": {},
      "source": [
        "Resampling the control points of the tow with a uniform spacing in the\nnormalized distance direction. The resampling is necessary to create a\nparametric representation based on dual kriging.\n\n"
      ]
    },
    {
      "cell_type": "code",
      "execution_count": null,
      "metadata": {
        "collapsed": false
      },
      "outputs": [],
      "source": [
        "theta_res = 35  # number of control points in the radial direction\nsample_position = np.linspace(0, 1, theta_res, endpoint=True)  # equal spaced points (normalized distance)\npts_krig, expr_krig = tow.krig_cs(krig_config=(\"lin\", \"cub\"),\n                                  skip=2, sample_position=sample_position,\n                                  smooth=0.0001)\n\n# tow.save(\"./tow/binder_4.tow\")\n# tow = np.load(\"./tow/binder_4.tow\", allow_pickle=True).tolist()\n\nmesh = tow.surf_mesh(plot=True, save_path=\"./test_data/binder_4.ply\", end_closed=True)\n\ntrajectory_sm = tow.trajectory(smooth=0.0015, plot=False,\n                               save_path=\"./test_data/trajectory.ply\", orientation=True)\n\n# Get the axial lines of the tow (the lines connecting the parametrized control points in\n# the axial direction)\nline_axi = tow.axial_lines(plot=True)\n\n# Get the radial lines of the tow (the lines connecting the parametrized control points in\n# the radial direction)\nline_rad = tow.radial_lines(plot=True)\n\n# The returned object clipped will be removed in the future. It is used for debugging.\ncross_section, plane, clipped = tow.normal_cross_section(algorithm=\"pyvista\")\n\ndf_geom = tow.geom_features"
      ]
    }
  ],
  "metadata": {
    "kernelspec": {
      "display_name": "Python 3",
      "language": "python",
      "name": "python3"
    },
    "language_info": {
      "codemirror_mode": {
        "name": "ipython",
        "version": 3
      },
      "file_extension": ".py",
      "mimetype": "text/x-python",
      "name": "python",
      "nbconvert_exporter": "python",
      "pygments_lexer": "ipython3",
      "version": "3.10.4"
    }
  },
  "nbformat": 4,
  "nbformat_minor": 0
}