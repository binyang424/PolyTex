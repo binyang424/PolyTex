{
  "cells": [
    {
      "cell_type": "markdown",
      "metadata": {},
      "source": [
        "\n# Voxelization of surface mesh\n\nTest\n"
      ]
    },
    {
      "cell_type": "code",
      "execution_count": null,
      "metadata": {
        "collapsed": false
      },
      "outputs": [],
      "source": [
        "import numpy as np\nimport pyvista as pv\nfrom polytex.mesh import features\n\n# voxelize the mesh\nmesh = pv.read(\"./testdata/profile_0_weft.stl\")\n\n# test the effect of density on mesh volume and cell size\ndensity = [0.088, 0.11, 0.088]\ndensity = 0.022\n\nvox1, ugrid = features.voxelize(mesh, density=density, density_type='cell_size', contained_cells=False)\n\ncell_centers = pv.wrap(ugrid.cell_centers().points)\nselection = cell_centers.select_enclosed_points(\n    mesh.extract_surface(), tolerance=0.0, check_surface=True\n)\nmask = selection.point_data['SelectedPoints'].view(np.bool_)\nvox2 = ugrid.extract_cells(mask)\n\n# save mesh vox2\nvox2.plot(show_edges=True)\nvox2.save(\"./testdata/profile_0_weft_vox2.vtk\")\n\n# vox3, _ = features.voxelize(mesh, density=density, density_type='cell_size', contained_cells=True)\n#\n# pv.global_theme.font.size = 10\n# pv.set_plot_theme(\"paraview\")\n# pv.global_theme.font.family = 'times'\n# pl = pv.Plotter(shape=(2, 2))\n# # pl.set_background(\"white\", top=\"white\")\n#\n# pl.subplot(0, 0)\n# _ = pl.add_mesh(mesh, show_edges=True)\n# _ = pl.add_title('Surface Mesh \\n volume = {}'.format(round(mesh.volume, 3)))\n#\n# pl.subplot(0, 1)\n# _ = pl.add_mesh(vox1, show_edges=True)\n# _ = pl.add_title('Any vertices \\n volume = {}'.format(round(vox1.volume, 3)))\n#\n# pl.subplot(1, 0)\n# _ = pl.add_mesh(vox2, show_edges=True)\n# _ = pl.add_title('Cell Center contained \\n volume = {}'.format(round(vox2.volume, 3)))\n#\n# pl.subplot(1, 1)\n# _ = pl.add_mesh(vox3, show_edges=True)\n# _ = pl.add_title('All vertices \\n volume = {}'.format(round(vox3.volume, 3)))\n#\n# pl.show()\n\n# 0.022: 11.63769965596028; 10.728850263964102; 9.750362951967027\n# 0.044: 12.513; 10.726; 8.757\n# 0.066: 13.635; 10.729; 8.038\n# 0.088: 14.27; 10.655; 6.884\n# 0.11: 15.248; 10.723; 6.173\n# 0.132: 16.143; 10.897; 5.322\n# 0.154: 16.684; 10.862; 4.313\n# 0.176: 17.429; 10.947; 3.2\n# 0.198: 19.15; 10.922; 3.454\n# 0.22: 19.166; 9.828; 3.003\n\n# voxel size and mesh volume and vox1, vox2, and vox3 volume, respectively.\nvolumes = np.array([[0.022, 11.638, 10.729, 9.750],\n                    [0.044, 12.513, 10.726, 8.757],\n                    [0.066, 13.635, 10.729, 8.038],\n                    [0.088, 14.27, 10.655, 6.884],\n                    [0.11, 15.248, 10.723, 6.173],\n                    [0.132, 16.143, 10.897, 5.322],\n                    [0.154, 16.684, 10.862, 4.313],\n                    [0.176, 17.429, 10.947, 3.2],\n                    [0.198, 19.15, 10.922, 3.454],\n                    [0.22, 19.166, 9.828, 3.003]])\n\nimport matplotlib.pyplot as plt\n\n# font size and font family\nplt.rcParams.update({'font.size': 12, 'font.family': 'Times New Roman'})\n\n# plot a horizontal line at the volume of the mesh\nplt.plot([0.02, 0.22], [10.735, 10.735], 'k--')\n\nplt.plot(volumes[:, 0], volumes[:, 1], 'o-')\nplt.plot(volumes[:, 0], volumes[:, 2], 'x-')\nplt.plot(volumes[:, 0], volumes[:, 3], '*-')\n\nplt.legend(['Actual volume', 'Vertices based', 'Centroid based', 'Cell based'])\nplt.xlabel('Voxel size ($mm$)')\n# specified x-axis tick labels\nplt.xticks([0.022, 0.044, 0.066, 0.088, 0.11, 0.132, 0.154, 0.176, 0.198, 0.22])\nplt.ylabel(r'Tow volume ($mm^3$)')\n# tight layout\nplt.tight_layout()\nplt.savefig('./testdata/voxelization.png', dpi=600)"
      ]
    }
  ],
  "metadata": {
    "kernelspec": {
      "display_name": "Python 3",
      "language": "python",
      "name": "python3"
    },
    "language_info": {
      "codemirror_mode": {
        "name": "ipython",
        "version": 3
      },
      "file_extension": ".py",
      "mimetype": "text/x-python",
      "name": "python",
      "nbconvert_exporter": "python",
      "pygments_lexer": "ipython3",
      "version": "3.10.11"
    }
  },
  "nbformat": 4,
  "nbformat_minor": 0
}